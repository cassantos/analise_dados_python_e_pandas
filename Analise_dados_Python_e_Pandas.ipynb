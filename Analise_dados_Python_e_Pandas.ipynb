{
  "nbformat": 4,
  "nbformat_minor": 0,
  "metadata": {
    "colab": {
      "provenance": []
    },
    "kernelspec": {
      "name": "python3",
      "display_name": "Python 3"
    },
    "language_info": {
      "name": "python"
    }
  },
  "cells": [
    {
      "cell_type": "code",
      "execution_count": 88,
      "metadata": {
        "id": "NK8S8I86HXNt",
        "colab": {
          "base_uri": "https://localhost:8080/"
        },
        "outputId": "5a5c9fcd-1ea2-478d-e829-86cb57f89c9b"
      },
      "outputs": [
        {
          "output_type": "stream",
          "name": "stderr",
          "text": [
            "<ipython-input-88-6eccd4eda469>:7: MatplotlibDeprecationWarning: The seaborn styles shipped by Matplotlib are deprecated since 3.6, as they no longer correspond to the styles shipped by seaborn. However, they will remain available as 'seaborn-v0_8-<style>'. Alternatively, directly use the seaborn API instead.\n",
            "  plt.style.use('seaborn')\n"
          ]
        }
      ],
      "source": [
        "# Importando as bibliotecas\n",
        "import matplotlib as mpl\n",
        "import pandas as pd\n",
        "import matplotlib.pyplot as plt\n",
        "plt.style.use('seaborn')"
      ]
    },
    {
      "cell_type": "code",
      "source": [
        "# Criando o Dataframe\n",
        "df = pd.read_excel('dataset/AdventureWorks.xlsx')"
      ],
      "metadata": {
        "id": "aQDbSo2tMLsW"
      },
      "execution_count": 135,
      "outputs": []
    },
    {
      "cell_type": "code",
      "source": [
        "df.head(3)"
      ],
      "metadata": {
        "colab": {
          "base_uri": "https://localhost:8080/",
          "height": 337
        },
        "id": "1coFE9vFMdba",
        "outputId": "670c9853-9464-4240-d73f-1b4fc5894532"
      },
      "execution_count": 37,
      "outputs": [
        {
          "output_type": "execute_result",
          "data": {
            "text/plain": [
              "  Data Venda Data Envio  ID Loja  ID Produto  ID Cliente       No. Venda  \\\n",
              "0 2008-05-09 2008-05-29      199         384       18839  200805093CS607   \n",
              "1 2008-05-12 2008-05-17      306         384       19051  200805123CS567   \n",
              "2 2008-05-14 2008-05-20      306         384       19052  200805143CS576   \n",
              "\n",
              "   Custo Unitário  Preço Unitário  Quantidade  Valor Desconto  Valor Venda  \\\n",
              "0          348.58           758.0           6             0.0       4548.0   \n",
              "1          348.58           758.0           6             0.0       4548.0   \n",
              "2          348.58           758.0           6             0.0       4548.0   \n",
              "\n",
              "                                 Produto       Fabricante            Marca  \\\n",
              "0  Adventure Works Laptop15.4W M1548 Red  Adventure Works  Adventure Works   \n",
              "1  Adventure Works Laptop15.4W M1548 Red  Adventure Works  Adventure Works   \n",
              "2  Adventure Works Laptop15.4W M1548 Red  Adventure Works  Adventure Works   \n",
              "\n",
              "    Classe  Cor  \n",
              "0  Regular  Red  \n",
              "1  Regular  Red  \n",
              "2  Regular  Red  "
            ],
            "text/html": [
              "\n",
              "  <div id=\"df-c2815c42-ea90-4b39-8371-150e8b8ca534\" class=\"colab-df-container\">\n",
              "    <div>\n",
              "<style scoped>\n",
              "    .dataframe tbody tr th:only-of-type {\n",
              "        vertical-align: middle;\n",
              "    }\n",
              "\n",
              "    .dataframe tbody tr th {\n",
              "        vertical-align: top;\n",
              "    }\n",
              "\n",
              "    .dataframe thead th {\n",
              "        text-align: right;\n",
              "    }\n",
              "</style>\n",
              "<table border=\"1\" class=\"dataframe\">\n",
              "  <thead>\n",
              "    <tr style=\"text-align: right;\">\n",
              "      <th></th>\n",
              "      <th>Data Venda</th>\n",
              "      <th>Data Envio</th>\n",
              "      <th>ID Loja</th>\n",
              "      <th>ID Produto</th>\n",
              "      <th>ID Cliente</th>\n",
              "      <th>No. Venda</th>\n",
              "      <th>Custo Unitário</th>\n",
              "      <th>Preço Unitário</th>\n",
              "      <th>Quantidade</th>\n",
              "      <th>Valor Desconto</th>\n",
              "      <th>Valor Venda</th>\n",
              "      <th>Produto</th>\n",
              "      <th>Fabricante</th>\n",
              "      <th>Marca</th>\n",
              "      <th>Classe</th>\n",
              "      <th>Cor</th>\n",
              "    </tr>\n",
              "  </thead>\n",
              "  <tbody>\n",
              "    <tr>\n",
              "      <th>0</th>\n",
              "      <td>2008-05-09</td>\n",
              "      <td>2008-05-29</td>\n",
              "      <td>199</td>\n",
              "      <td>384</td>\n",
              "      <td>18839</td>\n",
              "      <td>200805093CS607</td>\n",
              "      <td>348.58</td>\n",
              "      <td>758.0</td>\n",
              "      <td>6</td>\n",
              "      <td>0.0</td>\n",
              "      <td>4548.0</td>\n",
              "      <td>Adventure Works Laptop15.4W M1548 Red</td>\n",
              "      <td>Adventure Works</td>\n",
              "      <td>Adventure Works</td>\n",
              "      <td>Regular</td>\n",
              "      <td>Red</td>\n",
              "    </tr>\n",
              "    <tr>\n",
              "      <th>1</th>\n",
              "      <td>2008-05-12</td>\n",
              "      <td>2008-05-17</td>\n",
              "      <td>306</td>\n",
              "      <td>384</td>\n",
              "      <td>19051</td>\n",
              "      <td>200805123CS567</td>\n",
              "      <td>348.58</td>\n",
              "      <td>758.0</td>\n",
              "      <td>6</td>\n",
              "      <td>0.0</td>\n",
              "      <td>4548.0</td>\n",
              "      <td>Adventure Works Laptop15.4W M1548 Red</td>\n",
              "      <td>Adventure Works</td>\n",
              "      <td>Adventure Works</td>\n",
              "      <td>Regular</td>\n",
              "      <td>Red</td>\n",
              "    </tr>\n",
              "    <tr>\n",
              "      <th>2</th>\n",
              "      <td>2008-05-14</td>\n",
              "      <td>2008-05-20</td>\n",
              "      <td>306</td>\n",
              "      <td>384</td>\n",
              "      <td>19052</td>\n",
              "      <td>200805143CS576</td>\n",
              "      <td>348.58</td>\n",
              "      <td>758.0</td>\n",
              "      <td>6</td>\n",
              "      <td>0.0</td>\n",
              "      <td>4548.0</td>\n",
              "      <td>Adventure Works Laptop15.4W M1548 Red</td>\n",
              "      <td>Adventure Works</td>\n",
              "      <td>Adventure Works</td>\n",
              "      <td>Regular</td>\n",
              "      <td>Red</td>\n",
              "    </tr>\n",
              "  </tbody>\n",
              "</table>\n",
              "</div>\n",
              "    <div class=\"colab-df-buttons\">\n",
              "\n",
              "  <div class=\"colab-df-container\">\n",
              "    <button class=\"colab-df-convert\" onclick=\"convertToInteractive('df-c2815c42-ea90-4b39-8371-150e8b8ca534')\"\n",
              "            title=\"Convert this dataframe to an interactive table.\"\n",
              "            style=\"display:none;\">\n",
              "\n",
              "  <svg xmlns=\"http://www.w3.org/2000/svg\" height=\"24px\" viewBox=\"0 -960 960 960\">\n",
              "    <path d=\"M120-120v-720h720v720H120Zm60-500h600v-160H180v160Zm220 220h160v-160H400v160Zm0 220h160v-160H400v160ZM180-400h160v-160H180v160Zm440 0h160v-160H620v160ZM180-180h160v-160H180v160Zm440 0h160v-160H620v160Z\"/>\n",
              "  </svg>\n",
              "    </button>\n",
              "\n",
              "  <style>\n",
              "    .colab-df-container {\n",
              "      display:flex;\n",
              "      gap: 12px;\n",
              "    }\n",
              "\n",
              "    .colab-df-convert {\n",
              "      background-color: #E8F0FE;\n",
              "      border: none;\n",
              "      border-radius: 50%;\n",
              "      cursor: pointer;\n",
              "      display: none;\n",
              "      fill: #1967D2;\n",
              "      height: 32px;\n",
              "      padding: 0 0 0 0;\n",
              "      width: 32px;\n",
              "    }\n",
              "\n",
              "    .colab-df-convert:hover {\n",
              "      background-color: #E2EBFA;\n",
              "      box-shadow: 0px 1px 2px rgba(60, 64, 67, 0.3), 0px 1px 3px 1px rgba(60, 64, 67, 0.15);\n",
              "      fill: #174EA6;\n",
              "    }\n",
              "\n",
              "    .colab-df-buttons div {\n",
              "      margin-bottom: 4px;\n",
              "    }\n",
              "\n",
              "    [theme=dark] .colab-df-convert {\n",
              "      background-color: #3B4455;\n",
              "      fill: #D2E3FC;\n",
              "    }\n",
              "\n",
              "    [theme=dark] .colab-df-convert:hover {\n",
              "      background-color: #434B5C;\n",
              "      box-shadow: 0px 1px 3px 1px rgba(0, 0, 0, 0.15);\n",
              "      filter: drop-shadow(0px 1px 2px rgba(0, 0, 0, 0.3));\n",
              "      fill: #FFFFFF;\n",
              "    }\n",
              "  </style>\n",
              "\n",
              "    <script>\n",
              "      const buttonEl =\n",
              "        document.querySelector('#df-c2815c42-ea90-4b39-8371-150e8b8ca534 button.colab-df-convert');\n",
              "      buttonEl.style.display =\n",
              "        google.colab.kernel.accessAllowed ? 'block' : 'none';\n",
              "\n",
              "      async function convertToInteractive(key) {\n",
              "        const element = document.querySelector('#df-c2815c42-ea90-4b39-8371-150e8b8ca534');\n",
              "        const dataTable =\n",
              "          await google.colab.kernel.invokeFunction('convertToInteractive',\n",
              "                                                    [key], {});\n",
              "        if (!dataTable) return;\n",
              "\n",
              "        const docLinkHtml = 'Like what you see? Visit the ' +\n",
              "          '<a target=\"_blank\" href=https://colab.research.google.com/notebooks/data_table.ipynb>data table notebook</a>'\n",
              "          + ' to learn more about interactive tables.';\n",
              "        element.innerHTML = '';\n",
              "        dataTable['output_type'] = 'display_data';\n",
              "        await google.colab.output.renderOutput(dataTable, element);\n",
              "        const docLink = document.createElement('div');\n",
              "        docLink.innerHTML = docLinkHtml;\n",
              "        element.appendChild(docLink);\n",
              "      }\n",
              "    </script>\n",
              "  </div>\n",
              "\n",
              "\n",
              "<div id=\"df-4d0bba54-e17b-47f6-8f8d-ec3d594b0ee2\">\n",
              "  <button class=\"colab-df-quickchart\" onclick=\"quickchart('df-4d0bba54-e17b-47f6-8f8d-ec3d594b0ee2')\"\n",
              "            title=\"Suggest charts\"\n",
              "            style=\"display:none;\">\n",
              "\n",
              "<svg xmlns=\"http://www.w3.org/2000/svg\" height=\"24px\"viewBox=\"0 0 24 24\"\n",
              "     width=\"24px\">\n",
              "    <g>\n",
              "        <path d=\"M19 3H5c-1.1 0-2 .9-2 2v14c0 1.1.9 2 2 2h14c1.1 0 2-.9 2-2V5c0-1.1-.9-2-2-2zM9 17H7v-7h2v7zm4 0h-2V7h2v10zm4 0h-2v-4h2v4z\"/>\n",
              "    </g>\n",
              "</svg>\n",
              "  </button>\n",
              "\n",
              "<style>\n",
              "  .colab-df-quickchart {\n",
              "      --bg-color: #E8F0FE;\n",
              "      --fill-color: #1967D2;\n",
              "      --hover-bg-color: #E2EBFA;\n",
              "      --hover-fill-color: #174EA6;\n",
              "      --disabled-fill-color: #AAA;\n",
              "      --disabled-bg-color: #DDD;\n",
              "  }\n",
              "\n",
              "  [theme=dark] .colab-df-quickchart {\n",
              "      --bg-color: #3B4455;\n",
              "      --fill-color: #D2E3FC;\n",
              "      --hover-bg-color: #434B5C;\n",
              "      --hover-fill-color: #FFFFFF;\n",
              "      --disabled-bg-color: #3B4455;\n",
              "      --disabled-fill-color: #666;\n",
              "  }\n",
              "\n",
              "  .colab-df-quickchart {\n",
              "    background-color: var(--bg-color);\n",
              "    border: none;\n",
              "    border-radius: 50%;\n",
              "    cursor: pointer;\n",
              "    display: none;\n",
              "    fill: var(--fill-color);\n",
              "    height: 32px;\n",
              "    padding: 0;\n",
              "    width: 32px;\n",
              "  }\n",
              "\n",
              "  .colab-df-quickchart:hover {\n",
              "    background-color: var(--hover-bg-color);\n",
              "    box-shadow: 0 1px 2px rgba(60, 64, 67, 0.3), 0 1px 3px 1px rgba(60, 64, 67, 0.15);\n",
              "    fill: var(--button-hover-fill-color);\n",
              "  }\n",
              "\n",
              "  .colab-df-quickchart-complete:disabled,\n",
              "  .colab-df-quickchart-complete:disabled:hover {\n",
              "    background-color: var(--disabled-bg-color);\n",
              "    fill: var(--disabled-fill-color);\n",
              "    box-shadow: none;\n",
              "  }\n",
              "\n",
              "  .colab-df-spinner {\n",
              "    border: 2px solid var(--fill-color);\n",
              "    border-color: transparent;\n",
              "    border-bottom-color: var(--fill-color);\n",
              "    animation:\n",
              "      spin 1s steps(1) infinite;\n",
              "  }\n",
              "\n",
              "  @keyframes spin {\n",
              "    0% {\n",
              "      border-color: transparent;\n",
              "      border-bottom-color: var(--fill-color);\n",
              "      border-left-color: var(--fill-color);\n",
              "    }\n",
              "    20% {\n",
              "      border-color: transparent;\n",
              "      border-left-color: var(--fill-color);\n",
              "      border-top-color: var(--fill-color);\n",
              "    }\n",
              "    30% {\n",
              "      border-color: transparent;\n",
              "      border-left-color: var(--fill-color);\n",
              "      border-top-color: var(--fill-color);\n",
              "      border-right-color: var(--fill-color);\n",
              "    }\n",
              "    40% {\n",
              "      border-color: transparent;\n",
              "      border-right-color: var(--fill-color);\n",
              "      border-top-color: var(--fill-color);\n",
              "    }\n",
              "    60% {\n",
              "      border-color: transparent;\n",
              "      border-right-color: var(--fill-color);\n",
              "    }\n",
              "    80% {\n",
              "      border-color: transparent;\n",
              "      border-right-color: var(--fill-color);\n",
              "      border-bottom-color: var(--fill-color);\n",
              "    }\n",
              "    90% {\n",
              "      border-color: transparent;\n",
              "      border-bottom-color: var(--fill-color);\n",
              "    }\n",
              "  }\n",
              "</style>\n",
              "\n",
              "  <script>\n",
              "    async function quickchart(key) {\n",
              "      const quickchartButtonEl =\n",
              "        document.querySelector('#' + key + ' button');\n",
              "      quickchartButtonEl.disabled = true;  // To prevent multiple clicks.\n",
              "      quickchartButtonEl.classList.add('colab-df-spinner');\n",
              "      try {\n",
              "        const charts = await google.colab.kernel.invokeFunction(\n",
              "            'suggestCharts', [key], {});\n",
              "      } catch (error) {\n",
              "        console.error('Error during call to suggestCharts:', error);\n",
              "      }\n",
              "      quickchartButtonEl.classList.remove('colab-df-spinner');\n",
              "      quickchartButtonEl.classList.add('colab-df-quickchart-complete');\n",
              "    }\n",
              "    (() => {\n",
              "      let quickchartButtonEl =\n",
              "        document.querySelector('#df-4d0bba54-e17b-47f6-8f8d-ec3d594b0ee2 button');\n",
              "      quickchartButtonEl.style.display =\n",
              "        google.colab.kernel.accessAllowed ? 'block' : 'none';\n",
              "    })();\n",
              "  </script>\n",
              "</div>\n",
              "\n",
              "    </div>\n",
              "  </div>\n"
            ],
            "application/vnd.google.colaboratory.intrinsic+json": {
              "type": "dataframe",
              "variable_name": "df",
              "summary": "{\n  \"name\": \"df\",\n  \"rows\": 904,\n  \"fields\": [\n    {\n      \"column\": \"Data Venda\",\n      \"properties\": {\n        \"dtype\": \"date\",\n        \"min\": \"2008-01-02 00:00:00\",\n        \"max\": \"2009-12-31 00:00:00\",\n        \"num_unique_values\": 483,\n        \"samples\": [\n          \"2009-01-18 00:00:00\",\n          \"2008-04-18 00:00:00\",\n          \"2009-09-20 00:00:00\"\n        ],\n        \"semantic_type\": \"\",\n        \"description\": \"\"\n      }\n    },\n    {\n      \"column\": \"Data Envio\",\n      \"properties\": {\n        \"dtype\": \"date\",\n        \"min\": \"2008-01-12 00:00:00\",\n        \"max\": \"2010-01-12 00:00:00\",\n        \"num_unique_values\": 478,\n        \"samples\": [\n          \"2009-12-25 00:00:00\",\n          \"2008-05-09 00:00:00\",\n          \"2008-10-29 00:00:00\"\n        ],\n        \"semantic_type\": \"\",\n        \"description\": \"\"\n      }\n    },\n    {\n      \"column\": \"ID Loja\",\n      \"properties\": {\n        \"dtype\": \"number\",\n        \"std\": 50,\n        \"min\": 199,\n        \"max\": 307,\n        \"num_unique_values\": 3,\n        \"samples\": [\n          199,\n          306,\n          307\n        ],\n        \"semantic_type\": \"\",\n        \"description\": \"\"\n      }\n    },\n    {\n      \"column\": \"ID Produto\",\n      \"properties\": {\n        \"dtype\": \"number\",\n        \"std\": 706,\n        \"min\": 366,\n        \"max\": 2497,\n        \"num_unique_values\": 9,\n        \"samples\": [\n          2496,\n          1178,\n          1226\n        ],\n        \"semantic_type\": \"\",\n        \"description\": \"\"\n      }\n    },\n    {\n      \"column\": \"ID Cliente\",\n      \"properties\": {\n        \"dtype\": \"number\",\n        \"std\": 96,\n        \"min\": 18815,\n        \"max\": 19145,\n        \"num_unique_values\": 168,\n        \"samples\": [\n          18901,\n          19055,\n          19140\n        ],\n        \"semantic_type\": \"\",\n        \"description\": \"\"\n      }\n    },\n    {\n      \"column\": \"No. Venda\",\n      \"properties\": {\n        \"dtype\": \"string\",\n        \"num_unique_values\": 821,\n        \"samples\": [\n          \"200903024CS827\",\n          \"200910073CS727\",\n          \"200810054CS637\"\n        ],\n        \"semantic_type\": \"\",\n        \"description\": \"\"\n      }\n    },\n    {\n      \"column\": \"Custo Unit\\u00e1rio\",\n      \"properties\": {\n        \"dtype\": \"number\",\n        \"std\": 129.7650510823155,\n        \"min\": 5.09,\n        \"max\": 348.58,\n        \"num_unique_values\": 5,\n        \"samples\": [\n          330.66,\n          5.09,\n          324.69\n        ],\n        \"semantic_type\": \"\",\n        \"description\": \"\"\n      }\n    },\n    {\n      \"column\": \"Pre\\u00e7o Unit\\u00e1rio\",\n      \"properties\": {\n        \"dtype\": \"number\",\n        \"std\": 368.5898889184385,\n        \"min\": 9.99,\n        \"max\": 999.0,\n        \"num_unique_values\": 5,\n        \"samples\": [\n          998.0,\n          9.99,\n          980.0\n        ],\n        \"semantic_type\": \"\",\n        \"description\": \"\"\n      }\n    },\n    {\n      \"column\": \"Quantidade\",\n      \"properties\": {\n        \"dtype\": \"number\",\n        \"std\": 148,\n        \"min\": 2,\n        \"max\": 1560,\n        \"num_unique_values\": 56,\n        \"samples\": [\n          6,\n          30,\n          26\n        ],\n        \"semantic_type\": \"\",\n        \"description\": \"\"\n      }\n    },\n    {\n      \"column\": \"Valor Desconto\",\n      \"properties\": {\n        \"dtype\": \"number\",\n        \"std\": 822.3631167441658,\n        \"min\": 0.0,\n        \"max\": 6272.0,\n        \"num_unique_values\": 158,\n        \"samples\": [\n          201.3984,\n          490.0,\n          623.376\n        ],\n        \"semantic_type\": \"\",\n        \"description\": \"\"\n      }\n    },\n    {\n      \"column\": \"Valor Venda\",\n      \"properties\": {\n        \"dtype\": \"number\",\n        \"std\": 4319.407256734518,\n        \"min\": 159.84,\n        \"max\": 29400.0,\n        \"num_unique_values\": 217,\n        \"samples\": [\n          4790.4,\n          5394.6,\n          6293.7\n        ],\n        \"semantic_type\": \"\",\n        \"description\": \"\"\n      }\n    },\n    {\n      \"column\": \"Produto\",\n      \"properties\": {\n        \"dtype\": \"category\",\n        \"num_unique_values\": 9,\n        \"samples\": [\n          \"Headphone Adapter for Contoso Phone E130 Silver\",\n          \"Fabrikam Trendsetter 1/3'' 8.5mm X200 White\",\n          \"Fabrikam Trendsetter 1/3'' 8.5mm X200 Black\"\n        ],\n        \"semantic_type\": \"\",\n        \"description\": \"\"\n      }\n    },\n    {\n      \"column\": \"Fabricante\",\n      \"properties\": {\n        \"dtype\": \"category\",\n        \"num_unique_values\": 3,\n        \"samples\": [\n          \"Adventure Works\",\n          \"Fabrikam, Inc.\",\n          \"Contoso, Ltd\"\n        ],\n        \"semantic_type\": \"\",\n        \"description\": \"\"\n      }\n    },\n    {\n      \"column\": \"Marca\",\n      \"properties\": {\n        \"dtype\": \"category\",\n        \"num_unique_values\": 3,\n        \"samples\": [\n          \"Adventure Works\",\n          \"Fabrikam\",\n          \"Contoso\"\n        ],\n        \"semantic_type\": \"\",\n        \"description\": \"\"\n      }\n    },\n    {\n      \"column\": \"Classe\",\n      \"properties\": {\n        \"dtype\": \"category\",\n        \"num_unique_values\": 2,\n        \"samples\": [\n          \"Economy\",\n          \"Regular\"\n        ],\n        \"semantic_type\": \"\",\n        \"description\": \"\"\n      }\n    },\n    {\n      \"column\": \"Cor\",\n      \"properties\": {\n        \"dtype\": \"category\",\n        \"num_unique_values\": 5,\n        \"samples\": [\n          \"White\",\n          \"Silver\"\n        ],\n        \"semantic_type\": \"\",\n        \"description\": \"\"\n      }\n    }\n  ]\n}"
            }
          },
          "metadata": {},
          "execution_count": 37
        }
      ]
    },
    {
      "cell_type": "code",
      "source": [
        "df.shape"
      ],
      "metadata": {
        "id": "rKHczFvZMzXJ",
        "colab": {
          "base_uri": "https://localhost:8080/"
        },
        "outputId": "82245d3e-46a5-49ac-c99a-59a5b4822629"
      },
      "execution_count": 8,
      "outputs": [
        {
          "output_type": "execute_result",
          "data": {
            "text/plain": [
              "(904, 16)"
            ]
          },
          "metadata": {},
          "execution_count": 8
        }
      ]
    },
    {
      "cell_type": "code",
      "source": [
        "df.dtypes"
      ],
      "metadata": {
        "colab": {
          "base_uri": "https://localhost:8080/"
        },
        "id": "Q1D9dHRHVUsE",
        "outputId": "d8a20049-3896-4a26-d9d6-d3ce2a749362"
      },
      "execution_count": 9,
      "outputs": [
        {
          "output_type": "execute_result",
          "data": {
            "text/plain": [
              "Data Venda        datetime64[ns]\n",
              "Data Envio        datetime64[ns]\n",
              "ID Loja                    int64\n",
              "ID Produto                 int64\n",
              "ID Cliente                 int64\n",
              "No. Venda                 object\n",
              "Custo Unitário           float64\n",
              "Preço Unitário           float64\n",
              "Quantidade                 int64\n",
              "Valor Desconto           float64\n",
              "Valor Venda              float64\n",
              "Produto                   object\n",
              "Fabricante                object\n",
              "Marca                     object\n",
              "Classe                    object\n",
              "Cor                       object\n",
              "dtype: object"
            ]
          },
          "metadata": {},
          "execution_count": 9
        }
      ]
    },
    {
      "cell_type": "code",
      "source": [
        "# Qual é a receita total?\n",
        "round(df['Valor Venda'].sum(), 2)"
      ],
      "metadata": {
        "colab": {
          "base_uri": "https://localhost:8080/"
        },
        "id": "Ic0PvvknXW4C",
        "outputId": "0c9e39bf-efcb-4689-d01a-dfbca8aa96f2"
      },
      "execution_count": 10,
      "outputs": [
        {
          "output_type": "execute_result",
          "data": {
            "text/plain": [
              "5984606.14"
            ]
          },
          "metadata": {},
          "execution_count": 10
        }
      ]
    },
    {
      "cell_type": "code",
      "source": [
        "# Qual é o custo do produto?\n",
        "\n",
        "df['Custo'] = df['Custo Unitário'].mul(df['Quantidade'])"
      ],
      "metadata": {
        "id": "eBag4uS1xvz0"
      },
      "execution_count": 90,
      "outputs": []
    },
    {
      "cell_type": "code",
      "source": [
        "df.sample(3)"
      ],
      "metadata": {
        "colab": {
          "base_uri": "https://localhost:8080/",
          "height": 337
        },
        "id": "waJaI7D9yuOu",
        "outputId": "236062ea-e23e-48e5-e2cc-6d410fa5697c"
      },
      "execution_count": 12,
      "outputs": [
        {
          "output_type": "execute_result",
          "data": {
            "text/plain": [
              "    Data Venda Data Envio  ID Loja  ID Produto  ID Cliente       No. Venda  \\\n",
              "561 2008-07-24 2008-08-03      199         384       18856  200807243CS645   \n",
              "817 2009-11-14 2009-11-23      199         384       19015  200911143CS930   \n",
              "48  2008-05-16 2008-05-22      306        1203       19052  200805164CS576   \n",
              "\n",
              "     Custo Unitário  Preço Unitário  Quantidade  Valor Desconto  Valor Venda  \\\n",
              "561          348.58           758.0           8           606.4       5457.6   \n",
              "817          348.58           758.0           6           909.6       3638.4   \n",
              "48           324.69           980.0           6             0.0       5880.0   \n",
              "\n",
              "                                       Produto       Fabricante  \\\n",
              "561      Adventure Works Laptop15.4W M1548 Red  Adventure Works   \n",
              "817      Adventure Works Laptop15.4W M1548 Red  Adventure Works   \n",
              "48   Fabrikam Trendsetter 2/3'' 17mm X100 Grey   Fabrikam, Inc.   \n",
              "\n",
              "               Marca   Classe   Cor    Custo  \n",
              "561  Adventure Works  Regular   Red  2788.64  \n",
              "817  Adventure Works  Regular   Red  2091.48  \n",
              "48          Fabrikam  Regular  Grey  1948.14  "
            ],
            "text/html": [
              "\n",
              "  <div id=\"df-f0e9c74f-df35-4fcb-aab5-69c66a8eb71c\" class=\"colab-df-container\">\n",
              "    <div>\n",
              "<style scoped>\n",
              "    .dataframe tbody tr th:only-of-type {\n",
              "        vertical-align: middle;\n",
              "    }\n",
              "\n",
              "    .dataframe tbody tr th {\n",
              "        vertical-align: top;\n",
              "    }\n",
              "\n",
              "    .dataframe thead th {\n",
              "        text-align: right;\n",
              "    }\n",
              "</style>\n",
              "<table border=\"1\" class=\"dataframe\">\n",
              "  <thead>\n",
              "    <tr style=\"text-align: right;\">\n",
              "      <th></th>\n",
              "      <th>Data Venda</th>\n",
              "      <th>Data Envio</th>\n",
              "      <th>ID Loja</th>\n",
              "      <th>ID Produto</th>\n",
              "      <th>ID Cliente</th>\n",
              "      <th>No. Venda</th>\n",
              "      <th>Custo Unitário</th>\n",
              "      <th>Preço Unitário</th>\n",
              "      <th>Quantidade</th>\n",
              "      <th>Valor Desconto</th>\n",
              "      <th>Valor Venda</th>\n",
              "      <th>Produto</th>\n",
              "      <th>Fabricante</th>\n",
              "      <th>Marca</th>\n",
              "      <th>Classe</th>\n",
              "      <th>Cor</th>\n",
              "      <th>Custo</th>\n",
              "    </tr>\n",
              "  </thead>\n",
              "  <tbody>\n",
              "    <tr>\n",
              "      <th>561</th>\n",
              "      <td>2008-07-24</td>\n",
              "      <td>2008-08-03</td>\n",
              "      <td>199</td>\n",
              "      <td>384</td>\n",
              "      <td>18856</td>\n",
              "      <td>200807243CS645</td>\n",
              "      <td>348.58</td>\n",
              "      <td>758.0</td>\n",
              "      <td>8</td>\n",
              "      <td>606.4</td>\n",
              "      <td>5457.6</td>\n",
              "      <td>Adventure Works Laptop15.4W M1548 Red</td>\n",
              "      <td>Adventure Works</td>\n",
              "      <td>Adventure Works</td>\n",
              "      <td>Regular</td>\n",
              "      <td>Red</td>\n",
              "      <td>2788.64</td>\n",
              "    </tr>\n",
              "    <tr>\n",
              "      <th>817</th>\n",
              "      <td>2009-11-14</td>\n",
              "      <td>2009-11-23</td>\n",
              "      <td>199</td>\n",
              "      <td>384</td>\n",
              "      <td>19015</td>\n",
              "      <td>200911143CS930</td>\n",
              "      <td>348.58</td>\n",
              "      <td>758.0</td>\n",
              "      <td>6</td>\n",
              "      <td>909.6</td>\n",
              "      <td>3638.4</td>\n",
              "      <td>Adventure Works Laptop15.4W M1548 Red</td>\n",
              "      <td>Adventure Works</td>\n",
              "      <td>Adventure Works</td>\n",
              "      <td>Regular</td>\n",
              "      <td>Red</td>\n",
              "      <td>2091.48</td>\n",
              "    </tr>\n",
              "    <tr>\n",
              "      <th>48</th>\n",
              "      <td>2008-05-16</td>\n",
              "      <td>2008-05-22</td>\n",
              "      <td>306</td>\n",
              "      <td>1203</td>\n",
              "      <td>19052</td>\n",
              "      <td>200805164CS576</td>\n",
              "      <td>324.69</td>\n",
              "      <td>980.0</td>\n",
              "      <td>6</td>\n",
              "      <td>0.0</td>\n",
              "      <td>5880.0</td>\n",
              "      <td>Fabrikam Trendsetter 2/3'' 17mm X100 Grey</td>\n",
              "      <td>Fabrikam, Inc.</td>\n",
              "      <td>Fabrikam</td>\n",
              "      <td>Regular</td>\n",
              "      <td>Grey</td>\n",
              "      <td>1948.14</td>\n",
              "    </tr>\n",
              "  </tbody>\n",
              "</table>\n",
              "</div>\n",
              "    <div class=\"colab-df-buttons\">\n",
              "\n",
              "  <div class=\"colab-df-container\">\n",
              "    <button class=\"colab-df-convert\" onclick=\"convertToInteractive('df-f0e9c74f-df35-4fcb-aab5-69c66a8eb71c')\"\n",
              "            title=\"Convert this dataframe to an interactive table.\"\n",
              "            style=\"display:none;\">\n",
              "\n",
              "  <svg xmlns=\"http://www.w3.org/2000/svg\" height=\"24px\" viewBox=\"0 -960 960 960\">\n",
              "    <path d=\"M120-120v-720h720v720H120Zm60-500h600v-160H180v160Zm220 220h160v-160H400v160Zm0 220h160v-160H400v160ZM180-400h160v-160H180v160Zm440 0h160v-160H620v160ZM180-180h160v-160H180v160Zm440 0h160v-160H620v160Z\"/>\n",
              "  </svg>\n",
              "    </button>\n",
              "\n",
              "  <style>\n",
              "    .colab-df-container {\n",
              "      display:flex;\n",
              "      gap: 12px;\n",
              "    }\n",
              "\n",
              "    .colab-df-convert {\n",
              "      background-color: #E8F0FE;\n",
              "      border: none;\n",
              "      border-radius: 50%;\n",
              "      cursor: pointer;\n",
              "      display: none;\n",
              "      fill: #1967D2;\n",
              "      height: 32px;\n",
              "      padding: 0 0 0 0;\n",
              "      width: 32px;\n",
              "    }\n",
              "\n",
              "    .colab-df-convert:hover {\n",
              "      background-color: #E2EBFA;\n",
              "      box-shadow: 0px 1px 2px rgba(60, 64, 67, 0.3), 0px 1px 3px 1px rgba(60, 64, 67, 0.15);\n",
              "      fill: #174EA6;\n",
              "    }\n",
              "\n",
              "    .colab-df-buttons div {\n",
              "      margin-bottom: 4px;\n",
              "    }\n",
              "\n",
              "    [theme=dark] .colab-df-convert {\n",
              "      background-color: #3B4455;\n",
              "      fill: #D2E3FC;\n",
              "    }\n",
              "\n",
              "    [theme=dark] .colab-df-convert:hover {\n",
              "      background-color: #434B5C;\n",
              "      box-shadow: 0px 1px 3px 1px rgba(0, 0, 0, 0.15);\n",
              "      filter: drop-shadow(0px 1px 2px rgba(0, 0, 0, 0.3));\n",
              "      fill: #FFFFFF;\n",
              "    }\n",
              "  </style>\n",
              "\n",
              "    <script>\n",
              "      const buttonEl =\n",
              "        document.querySelector('#df-f0e9c74f-df35-4fcb-aab5-69c66a8eb71c button.colab-df-convert');\n",
              "      buttonEl.style.display =\n",
              "        google.colab.kernel.accessAllowed ? 'block' : 'none';\n",
              "\n",
              "      async function convertToInteractive(key) {\n",
              "        const element = document.querySelector('#df-f0e9c74f-df35-4fcb-aab5-69c66a8eb71c');\n",
              "        const dataTable =\n",
              "          await google.colab.kernel.invokeFunction('convertToInteractive',\n",
              "                                                    [key], {});\n",
              "        if (!dataTable) return;\n",
              "\n",
              "        const docLinkHtml = 'Like what you see? Visit the ' +\n",
              "          '<a target=\"_blank\" href=https://colab.research.google.com/notebooks/data_table.ipynb>data table notebook</a>'\n",
              "          + ' to learn more about interactive tables.';\n",
              "        element.innerHTML = '';\n",
              "        dataTable['output_type'] = 'display_data';\n",
              "        await google.colab.output.renderOutput(dataTable, element);\n",
              "        const docLink = document.createElement('div');\n",
              "        docLink.innerHTML = docLinkHtml;\n",
              "        element.appendChild(docLink);\n",
              "      }\n",
              "    </script>\n",
              "  </div>\n",
              "\n",
              "\n",
              "<div id=\"df-798687a2-ba93-425e-aa42-d9402929f3b7\">\n",
              "  <button class=\"colab-df-quickchart\" onclick=\"quickchart('df-798687a2-ba93-425e-aa42-d9402929f3b7')\"\n",
              "            title=\"Suggest charts\"\n",
              "            style=\"display:none;\">\n",
              "\n",
              "<svg xmlns=\"http://www.w3.org/2000/svg\" height=\"24px\"viewBox=\"0 0 24 24\"\n",
              "     width=\"24px\">\n",
              "    <g>\n",
              "        <path d=\"M19 3H5c-1.1 0-2 .9-2 2v14c0 1.1.9 2 2 2h14c1.1 0 2-.9 2-2V5c0-1.1-.9-2-2-2zM9 17H7v-7h2v7zm4 0h-2V7h2v10zm4 0h-2v-4h2v4z\"/>\n",
              "    </g>\n",
              "</svg>\n",
              "  </button>\n",
              "\n",
              "<style>\n",
              "  .colab-df-quickchart {\n",
              "      --bg-color: #E8F0FE;\n",
              "      --fill-color: #1967D2;\n",
              "      --hover-bg-color: #E2EBFA;\n",
              "      --hover-fill-color: #174EA6;\n",
              "      --disabled-fill-color: #AAA;\n",
              "      --disabled-bg-color: #DDD;\n",
              "  }\n",
              "\n",
              "  [theme=dark] .colab-df-quickchart {\n",
              "      --bg-color: #3B4455;\n",
              "      --fill-color: #D2E3FC;\n",
              "      --hover-bg-color: #434B5C;\n",
              "      --hover-fill-color: #FFFFFF;\n",
              "      --disabled-bg-color: #3B4455;\n",
              "      --disabled-fill-color: #666;\n",
              "  }\n",
              "\n",
              "  .colab-df-quickchart {\n",
              "    background-color: var(--bg-color);\n",
              "    border: none;\n",
              "    border-radius: 50%;\n",
              "    cursor: pointer;\n",
              "    display: none;\n",
              "    fill: var(--fill-color);\n",
              "    height: 32px;\n",
              "    padding: 0;\n",
              "    width: 32px;\n",
              "  }\n",
              "\n",
              "  .colab-df-quickchart:hover {\n",
              "    background-color: var(--hover-bg-color);\n",
              "    box-shadow: 0 1px 2px rgba(60, 64, 67, 0.3), 0 1px 3px 1px rgba(60, 64, 67, 0.15);\n",
              "    fill: var(--button-hover-fill-color);\n",
              "  }\n",
              "\n",
              "  .colab-df-quickchart-complete:disabled,\n",
              "  .colab-df-quickchart-complete:disabled:hover {\n",
              "    background-color: var(--disabled-bg-color);\n",
              "    fill: var(--disabled-fill-color);\n",
              "    box-shadow: none;\n",
              "  }\n",
              "\n",
              "  .colab-df-spinner {\n",
              "    border: 2px solid var(--fill-color);\n",
              "    border-color: transparent;\n",
              "    border-bottom-color: var(--fill-color);\n",
              "    animation:\n",
              "      spin 1s steps(1) infinite;\n",
              "  }\n",
              "\n",
              "  @keyframes spin {\n",
              "    0% {\n",
              "      border-color: transparent;\n",
              "      border-bottom-color: var(--fill-color);\n",
              "      border-left-color: var(--fill-color);\n",
              "    }\n",
              "    20% {\n",
              "      border-color: transparent;\n",
              "      border-left-color: var(--fill-color);\n",
              "      border-top-color: var(--fill-color);\n",
              "    }\n",
              "    30% {\n",
              "      border-color: transparent;\n",
              "      border-left-color: var(--fill-color);\n",
              "      border-top-color: var(--fill-color);\n",
              "      border-right-color: var(--fill-color);\n",
              "    }\n",
              "    40% {\n",
              "      border-color: transparent;\n",
              "      border-right-color: var(--fill-color);\n",
              "      border-top-color: var(--fill-color);\n",
              "    }\n",
              "    60% {\n",
              "      border-color: transparent;\n",
              "      border-right-color: var(--fill-color);\n",
              "    }\n",
              "    80% {\n",
              "      border-color: transparent;\n",
              "      border-right-color: var(--fill-color);\n",
              "      border-bottom-color: var(--fill-color);\n",
              "    }\n",
              "    90% {\n",
              "      border-color: transparent;\n",
              "      border-bottom-color: var(--fill-color);\n",
              "    }\n",
              "  }\n",
              "</style>\n",
              "\n",
              "  <script>\n",
              "    async function quickchart(key) {\n",
              "      const quickchartButtonEl =\n",
              "        document.querySelector('#' + key + ' button');\n",
              "      quickchartButtonEl.disabled = true;  // To prevent multiple clicks.\n",
              "      quickchartButtonEl.classList.add('colab-df-spinner');\n",
              "      try {\n",
              "        const charts = await google.colab.kernel.invokeFunction(\n",
              "            'suggestCharts', [key], {});\n",
              "      } catch (error) {\n",
              "        console.error('Error during call to suggestCharts:', error);\n",
              "      }\n",
              "      quickchartButtonEl.classList.remove('colab-df-spinner');\n",
              "      quickchartButtonEl.classList.add('colab-df-quickchart-complete');\n",
              "    }\n",
              "    (() => {\n",
              "      let quickchartButtonEl =\n",
              "        document.querySelector('#df-798687a2-ba93-425e-aa42-d9402929f3b7 button');\n",
              "      quickchartButtonEl.style.display =\n",
              "        google.colab.kernel.accessAllowed ? 'block' : 'none';\n",
              "    })();\n",
              "  </script>\n",
              "</div>\n",
              "\n",
              "    </div>\n",
              "  </div>\n"
            ],
            "application/vnd.google.colaboratory.intrinsic+json": {
              "type": "dataframe",
              "summary": "{\n  \"name\": \"df\",\n  \"rows\": 3,\n  \"fields\": [\n    {\n      \"column\": \"Data Venda\",\n      \"properties\": {\n        \"dtype\": \"date\",\n        \"min\": \"2008-05-16 00:00:00\",\n        \"max\": \"2009-11-14 00:00:00\",\n        \"num_unique_values\": 3,\n        \"samples\": [\n          \"2008-07-24 00:00:00\",\n          \"2009-11-14 00:00:00\",\n          \"2008-05-16 00:00:00\"\n        ],\n        \"semantic_type\": \"\",\n        \"description\": \"\"\n      }\n    },\n    {\n      \"column\": \"Data Envio\",\n      \"properties\": {\n        \"dtype\": \"date\",\n        \"min\": \"2008-05-22 00:00:00\",\n        \"max\": \"2009-11-23 00:00:00\",\n        \"num_unique_values\": 3,\n        \"samples\": [\n          \"2008-08-03 00:00:00\",\n          \"2009-11-23 00:00:00\",\n          \"2008-05-22 00:00:00\"\n        ],\n        \"semantic_type\": \"\",\n        \"description\": \"\"\n      }\n    },\n    {\n      \"column\": \"ID Loja\",\n      \"properties\": {\n        \"dtype\": \"number\",\n        \"std\": 61,\n        \"min\": 199,\n        \"max\": 306,\n        \"num_unique_values\": 2,\n        \"samples\": [\n          306,\n          199\n        ],\n        \"semantic_type\": \"\",\n        \"description\": \"\"\n      }\n    },\n    {\n      \"column\": \"ID Produto\",\n      \"properties\": {\n        \"dtype\": \"number\",\n        \"std\": 472,\n        \"min\": 384,\n        \"max\": 1203,\n        \"num_unique_values\": 2,\n        \"samples\": [\n          1203,\n          384\n        ],\n        \"semantic_type\": \"\",\n        \"description\": \"\"\n      }\n    },\n    {\n      \"column\": \"ID Cliente\",\n      \"properties\": {\n        \"dtype\": \"number\",\n        \"std\": 104,\n        \"min\": 18856,\n        \"max\": 19052,\n        \"num_unique_values\": 3,\n        \"samples\": [\n          18856,\n          19015\n        ],\n        \"semantic_type\": \"\",\n        \"description\": \"\"\n      }\n    },\n    {\n      \"column\": \"No. Venda\",\n      \"properties\": {\n        \"dtype\": \"string\",\n        \"num_unique_values\": 3,\n        \"samples\": [\n          \"200807243CS645\",\n          \"200911143CS930\"\n        ],\n        \"semantic_type\": \"\",\n        \"description\": \"\"\n      }\n    },\n    {\n      \"column\": \"Custo Unit\\u00e1rio\",\n      \"properties\": {\n        \"dtype\": \"number\",\n        \"std\": 13.792897930940152,\n        \"min\": 324.69,\n        \"max\": 348.58,\n        \"num_unique_values\": 2,\n        \"samples\": [\n          324.69,\n          348.58\n        ],\n        \"semantic_type\": \"\",\n        \"description\": \"\"\n      }\n    },\n    {\n      \"column\": \"Pre\\u00e7o Unit\\u00e1rio\",\n      \"properties\": {\n        \"dtype\": \"number\",\n        \"std\": 128.17175976009693,\n        \"min\": 758.0,\n        \"max\": 980.0,\n        \"num_unique_values\": 2,\n        \"samples\": [\n          980.0,\n          758.0\n        ],\n        \"semantic_type\": \"\",\n        \"description\": \"\"\n      }\n    },\n    {\n      \"column\": \"Quantidade\",\n      \"properties\": {\n        \"dtype\": \"number\",\n        \"std\": 1,\n        \"min\": 6,\n        \"max\": 8,\n        \"num_unique_values\": 2,\n        \"samples\": [\n          6,\n          8\n        ],\n        \"semantic_type\": \"\",\n        \"description\": \"\"\n      }\n    },\n    {\n      \"column\": \"Valor Desconto\",\n      \"properties\": {\n        \"dtype\": \"number\",\n        \"std\": 463.1456502368702,\n        \"min\": 0.0,\n        \"max\": 909.6,\n        \"num_unique_values\": 3,\n        \"samples\": [\n          606.4,\n          909.6\n        ],\n        \"semantic_type\": \"\",\n        \"description\": \"\"\n      }\n    },\n    {\n      \"column\": \"Valor Venda\",\n      \"properties\": {\n        \"dtype\": \"number\",\n        \"std\": 1191.1255853183577,\n        \"min\": 3638.4,\n        \"max\": 5880.0,\n        \"num_unique_values\": 3,\n        \"samples\": [\n          5457.6,\n          3638.4\n        ],\n        \"semantic_type\": \"\",\n        \"description\": \"\"\n      }\n    },\n    {\n      \"column\": \"Produto\",\n      \"properties\": {\n        \"dtype\": \"string\",\n        \"num_unique_values\": 2,\n        \"samples\": [\n          \"Fabrikam Trendsetter 2/3'' 17mm X100 Grey\",\n          \"Adventure Works Laptop15.4W M1548 Red\"\n        ],\n        \"semantic_type\": \"\",\n        \"description\": \"\"\n      }\n    },\n    {\n      \"column\": \"Fabricante\",\n      \"properties\": {\n        \"dtype\": \"string\",\n        \"num_unique_values\": 2,\n        \"samples\": [\n          \"Fabrikam, Inc.\",\n          \"Adventure Works\"\n        ],\n        \"semantic_type\": \"\",\n        \"description\": \"\"\n      }\n    },\n    {\n      \"column\": \"Marca\",\n      \"properties\": {\n        \"dtype\": \"string\",\n        \"num_unique_values\": 2,\n        \"samples\": [\n          \"Fabrikam\",\n          \"Adventure Works\"\n        ],\n        \"semantic_type\": \"\",\n        \"description\": \"\"\n      }\n    },\n    {\n      \"column\": \"Classe\",\n      \"properties\": {\n        \"dtype\": \"category\",\n        \"num_unique_values\": 1,\n        \"samples\": [\n          \"Regular\"\n        ],\n        \"semantic_type\": \"\",\n        \"description\": \"\"\n      }\n    },\n    {\n      \"column\": \"Cor\",\n      \"properties\": {\n        \"dtype\": \"string\",\n        \"num_unique_values\": 2,\n        \"samples\": [\n          \"Grey\"\n        ],\n        \"semantic_type\": \"\",\n        \"description\": \"\"\n      }\n    },\n    {\n      \"column\": \"Custo\",\n      \"properties\": {\n        \"dtype\": \"number\",\n        \"std\": 449.63293755388213,\n        \"min\": 1948.1399999999999,\n        \"max\": 2788.64,\n        \"num_unique_values\": 3,\n        \"samples\": [\n          2788.64\n        ],\n        \"semantic_type\": \"\",\n        \"description\": \"\"\n      }\n    }\n  ]\n}"
            }
          },
          "metadata": {},
          "execution_count": 12
        }
      ]
    },
    {
      "cell_type": "code",
      "source": [
        "#Qual é o custo total?\n",
        "\n",
        "df['Custo'].sum()"
      ],
      "metadata": {
        "colab": {
          "base_uri": "https://localhost:8080/"
        },
        "id": "VyuNf6AxzEEh",
        "outputId": "3b0e7f1b-78cf-4c57-dd5f-f684d625be6e"
      },
      "execution_count": 39,
      "outputs": [
        {
          "output_type": "execute_result",
          "data": {
            "text/plain": [
              "2486783.05"
            ]
          },
          "metadata": {},
          "execution_count": 39
        }
      ]
    },
    {
      "cell_type": "code",
      "source": [
        "# Qual é o lucro total?\n",
        "\n",
        "round(df['Valor Venda'].sum() - df['Custo'].sum(), 2)"
      ],
      "metadata": {
        "colab": {
          "base_uri": "https://localhost:8080/"
        },
        "id": "8YRpRT_-zT0z",
        "outputId": "bd5ca425-7ca0-429e-ca0b-8b954450200b"
      },
      "execution_count": 14,
      "outputs": [
        {
          "output_type": "execute_result",
          "data": {
            "text/plain": [
              "3497823.09"
            ]
          },
          "metadata": {},
          "execution_count": 14
        }
      ]
    },
    {
      "cell_type": "code",
      "source": [
        "# Criando uma coluna Lucro\n",
        "df['Lucro'] = df['Valor Venda'] - df['Custo']"
      ],
      "metadata": {
        "id": "RouEPdWgrfkL"
      },
      "execution_count": 91,
      "outputs": []
    },
    {
      "cell_type": "code",
      "source": [
        "# Criando uma coluna para tempo de envio\n",
        "\n",
        "df['Tempo Envio'] = (df['Data Envio'] - df['Data Venda']).dt.days\n",
        "df.sample(3)\n"
      ],
      "metadata": {
        "colab": {
          "base_uri": "https://localhost:8080/",
          "height": 337
        },
        "id": "vGIbFESNnIpX",
        "outputId": "ea4f7c57-84e6-4a23-f25d-b58d9fd263aa"
      },
      "execution_count": 92,
      "outputs": [
        {
          "output_type": "execute_result",
          "data": {
            "text/plain": [
              "    Data Venda Data Envio  ID Loja  ID Produto  ID Cliente       No. Venda  \\\n",
              "898 2009-06-25 2009-07-06      307        1155       19127  200906254CS717   \n",
              "226 2009-07-19 2009-08-01      307        1178       19129  200907194CS719   \n",
              "140 2009-04-08 2009-04-12      199         366       18930  200904083CS839   \n",
              "\n",
              "          Custo Unitário       Preço Unitário  Quantidade  \\\n",
              "898               324.69               980.00           6   \n",
              "226               330.66               998.00           8   \n",
              "140               348.58               758.00           6   \n",
              "\n",
              "          Valor Desconto          Valor Venda  \\\n",
              "898               588.00             5,292.00   \n",
              "226                 0.00             7,984.00   \n",
              "140                 0.00             4,548.00   \n",
              "\n",
              "                                         Produto       Fabricante  \\\n",
              "898   Fabrikam Trendsetter 2/3'' 17mm X100 Black   Fabrikam, Inc.   \n",
              "226  Fabrikam Trendsetter 1/3'' 8.5mm X200 White   Fabrikam, Inc.   \n",
              "140      Adventure Works Laptop15.4W M1548 Black  Adventure Works   \n",
              "\n",
              "               Marca   Classe    Cor                Custo  \\\n",
              "898         Fabrikam  Regular  Black             1,948.14   \n",
              "226         Fabrikam  Regular  White             2,645.28   \n",
              "140  Adventure Works  Regular  Black             2,091.48   \n",
              "\n",
              "                   Lucro  Tempo Envio  \n",
              "898             3,343.86           11  \n",
              "226             5,338.72           13  \n",
              "140             2,456.52            4  "
            ],
            "text/html": [
              "\n",
              "  <div id=\"df-afb7cb6a-d681-422f-85db-26e343b42f69\" class=\"colab-df-container\">\n",
              "    <div>\n",
              "<style scoped>\n",
              "    .dataframe tbody tr th:only-of-type {\n",
              "        vertical-align: middle;\n",
              "    }\n",
              "\n",
              "    .dataframe tbody tr th {\n",
              "        vertical-align: top;\n",
              "    }\n",
              "\n",
              "    .dataframe thead th {\n",
              "        text-align: right;\n",
              "    }\n",
              "</style>\n",
              "<table border=\"1\" class=\"dataframe\">\n",
              "  <thead>\n",
              "    <tr style=\"text-align: right;\">\n",
              "      <th></th>\n",
              "      <th>Data Venda</th>\n",
              "      <th>Data Envio</th>\n",
              "      <th>ID Loja</th>\n",
              "      <th>ID Produto</th>\n",
              "      <th>ID Cliente</th>\n",
              "      <th>No. Venda</th>\n",
              "      <th>Custo Unitário</th>\n",
              "      <th>Preço Unitário</th>\n",
              "      <th>Quantidade</th>\n",
              "      <th>Valor Desconto</th>\n",
              "      <th>Valor Venda</th>\n",
              "      <th>Produto</th>\n",
              "      <th>Fabricante</th>\n",
              "      <th>Marca</th>\n",
              "      <th>Classe</th>\n",
              "      <th>Cor</th>\n",
              "      <th>Custo</th>\n",
              "      <th>Lucro</th>\n",
              "      <th>Tempo Envio</th>\n",
              "    </tr>\n",
              "  </thead>\n",
              "  <tbody>\n",
              "    <tr>\n",
              "      <th>898</th>\n",
              "      <td>2009-06-25</td>\n",
              "      <td>2009-07-06</td>\n",
              "      <td>307</td>\n",
              "      <td>1155</td>\n",
              "      <td>19127</td>\n",
              "      <td>200906254CS717</td>\n",
              "      <td>324.69</td>\n",
              "      <td>980.00</td>\n",
              "      <td>6</td>\n",
              "      <td>588.00</td>\n",
              "      <td>5,292.00</td>\n",
              "      <td>Fabrikam Trendsetter 2/3'' 17mm X100 Black</td>\n",
              "      <td>Fabrikam, Inc.</td>\n",
              "      <td>Fabrikam</td>\n",
              "      <td>Regular</td>\n",
              "      <td>Black</td>\n",
              "      <td>1,948.14</td>\n",
              "      <td>3,343.86</td>\n",
              "      <td>11</td>\n",
              "    </tr>\n",
              "    <tr>\n",
              "      <th>226</th>\n",
              "      <td>2009-07-19</td>\n",
              "      <td>2009-08-01</td>\n",
              "      <td>307</td>\n",
              "      <td>1178</td>\n",
              "      <td>19129</td>\n",
              "      <td>200907194CS719</td>\n",
              "      <td>330.66</td>\n",
              "      <td>998.00</td>\n",
              "      <td>8</td>\n",
              "      <td>0.00</td>\n",
              "      <td>7,984.00</td>\n",
              "      <td>Fabrikam Trendsetter 1/3'' 8.5mm X200 White</td>\n",
              "      <td>Fabrikam, Inc.</td>\n",
              "      <td>Fabrikam</td>\n",
              "      <td>Regular</td>\n",
              "      <td>White</td>\n",
              "      <td>2,645.28</td>\n",
              "      <td>5,338.72</td>\n",
              "      <td>13</td>\n",
              "    </tr>\n",
              "    <tr>\n",
              "      <th>140</th>\n",
              "      <td>2009-04-08</td>\n",
              "      <td>2009-04-12</td>\n",
              "      <td>199</td>\n",
              "      <td>366</td>\n",
              "      <td>18930</td>\n",
              "      <td>200904083CS839</td>\n",
              "      <td>348.58</td>\n",
              "      <td>758.00</td>\n",
              "      <td>6</td>\n",
              "      <td>0.00</td>\n",
              "      <td>4,548.00</td>\n",
              "      <td>Adventure Works Laptop15.4W M1548 Black</td>\n",
              "      <td>Adventure Works</td>\n",
              "      <td>Adventure Works</td>\n",
              "      <td>Regular</td>\n",
              "      <td>Black</td>\n",
              "      <td>2,091.48</td>\n",
              "      <td>2,456.52</td>\n",
              "      <td>4</td>\n",
              "    </tr>\n",
              "  </tbody>\n",
              "</table>\n",
              "</div>\n",
              "    <div class=\"colab-df-buttons\">\n",
              "\n",
              "  <div class=\"colab-df-container\">\n",
              "    <button class=\"colab-df-convert\" onclick=\"convertToInteractive('df-afb7cb6a-d681-422f-85db-26e343b42f69')\"\n",
              "            title=\"Convert this dataframe to an interactive table.\"\n",
              "            style=\"display:none;\">\n",
              "\n",
              "  <svg xmlns=\"http://www.w3.org/2000/svg\" height=\"24px\" viewBox=\"0 -960 960 960\">\n",
              "    <path d=\"M120-120v-720h720v720H120Zm60-500h600v-160H180v160Zm220 220h160v-160H400v160Zm0 220h160v-160H400v160ZM180-400h160v-160H180v160Zm440 0h160v-160H620v160ZM180-180h160v-160H180v160Zm440 0h160v-160H620v160Z\"/>\n",
              "  </svg>\n",
              "    </button>\n",
              "\n",
              "  <style>\n",
              "    .colab-df-container {\n",
              "      display:flex;\n",
              "      gap: 12px;\n",
              "    }\n",
              "\n",
              "    .colab-df-convert {\n",
              "      background-color: #E8F0FE;\n",
              "      border: none;\n",
              "      border-radius: 50%;\n",
              "      cursor: pointer;\n",
              "      display: none;\n",
              "      fill: #1967D2;\n",
              "      height: 32px;\n",
              "      padding: 0 0 0 0;\n",
              "      width: 32px;\n",
              "    }\n",
              "\n",
              "    .colab-df-convert:hover {\n",
              "      background-color: #E2EBFA;\n",
              "      box-shadow: 0px 1px 2px rgba(60, 64, 67, 0.3), 0px 1px 3px 1px rgba(60, 64, 67, 0.15);\n",
              "      fill: #174EA6;\n",
              "    }\n",
              "\n",
              "    .colab-df-buttons div {\n",
              "      margin-bottom: 4px;\n",
              "    }\n",
              "\n",
              "    [theme=dark] .colab-df-convert {\n",
              "      background-color: #3B4455;\n",
              "      fill: #D2E3FC;\n",
              "    }\n",
              "\n",
              "    [theme=dark] .colab-df-convert:hover {\n",
              "      background-color: #434B5C;\n",
              "      box-shadow: 0px 1px 3px 1px rgba(0, 0, 0, 0.15);\n",
              "      filter: drop-shadow(0px 1px 2px rgba(0, 0, 0, 0.3));\n",
              "      fill: #FFFFFF;\n",
              "    }\n",
              "  </style>\n",
              "\n",
              "    <script>\n",
              "      const buttonEl =\n",
              "        document.querySelector('#df-afb7cb6a-d681-422f-85db-26e343b42f69 button.colab-df-convert');\n",
              "      buttonEl.style.display =\n",
              "        google.colab.kernel.accessAllowed ? 'block' : 'none';\n",
              "\n",
              "      async function convertToInteractive(key) {\n",
              "        const element = document.querySelector('#df-afb7cb6a-d681-422f-85db-26e343b42f69');\n",
              "        const dataTable =\n",
              "          await google.colab.kernel.invokeFunction('convertToInteractive',\n",
              "                                                    [key], {});\n",
              "        if (!dataTable) return;\n",
              "\n",
              "        const docLinkHtml = 'Like what you see? Visit the ' +\n",
              "          '<a target=\"_blank\" href=https://colab.research.google.com/notebooks/data_table.ipynb>data table notebook</a>'\n",
              "          + ' to learn more about interactive tables.';\n",
              "        element.innerHTML = '';\n",
              "        dataTable['output_type'] = 'display_data';\n",
              "        await google.colab.output.renderOutput(dataTable, element);\n",
              "        const docLink = document.createElement('div');\n",
              "        docLink.innerHTML = docLinkHtml;\n",
              "        element.appendChild(docLink);\n",
              "      }\n",
              "    </script>\n",
              "  </div>\n",
              "\n",
              "\n",
              "<div id=\"df-b1e0c5cd-84ef-4065-ab08-0d8d836a012a\">\n",
              "  <button class=\"colab-df-quickchart\" onclick=\"quickchart('df-b1e0c5cd-84ef-4065-ab08-0d8d836a012a')\"\n",
              "            title=\"Suggest charts\"\n",
              "            style=\"display:none;\">\n",
              "\n",
              "<svg xmlns=\"http://www.w3.org/2000/svg\" height=\"24px\"viewBox=\"0 0 24 24\"\n",
              "     width=\"24px\">\n",
              "    <g>\n",
              "        <path d=\"M19 3H5c-1.1 0-2 .9-2 2v14c0 1.1.9 2 2 2h14c1.1 0 2-.9 2-2V5c0-1.1-.9-2-2-2zM9 17H7v-7h2v7zm4 0h-2V7h2v10zm4 0h-2v-4h2v4z\"/>\n",
              "    </g>\n",
              "</svg>\n",
              "  </button>\n",
              "\n",
              "<style>\n",
              "  .colab-df-quickchart {\n",
              "      --bg-color: #E8F0FE;\n",
              "      --fill-color: #1967D2;\n",
              "      --hover-bg-color: #E2EBFA;\n",
              "      --hover-fill-color: #174EA6;\n",
              "      --disabled-fill-color: #AAA;\n",
              "      --disabled-bg-color: #DDD;\n",
              "  }\n",
              "\n",
              "  [theme=dark] .colab-df-quickchart {\n",
              "      --bg-color: #3B4455;\n",
              "      --fill-color: #D2E3FC;\n",
              "      --hover-bg-color: #434B5C;\n",
              "      --hover-fill-color: #FFFFFF;\n",
              "      --disabled-bg-color: #3B4455;\n",
              "      --disabled-fill-color: #666;\n",
              "  }\n",
              "\n",
              "  .colab-df-quickchart {\n",
              "    background-color: var(--bg-color);\n",
              "    border: none;\n",
              "    border-radius: 50%;\n",
              "    cursor: pointer;\n",
              "    display: none;\n",
              "    fill: var(--fill-color);\n",
              "    height: 32px;\n",
              "    padding: 0;\n",
              "    width: 32px;\n",
              "  }\n",
              "\n",
              "  .colab-df-quickchart:hover {\n",
              "    background-color: var(--hover-bg-color);\n",
              "    box-shadow: 0 1px 2px rgba(60, 64, 67, 0.3), 0 1px 3px 1px rgba(60, 64, 67, 0.15);\n",
              "    fill: var(--button-hover-fill-color);\n",
              "  }\n",
              "\n",
              "  .colab-df-quickchart-complete:disabled,\n",
              "  .colab-df-quickchart-complete:disabled:hover {\n",
              "    background-color: var(--disabled-bg-color);\n",
              "    fill: var(--disabled-fill-color);\n",
              "    box-shadow: none;\n",
              "  }\n",
              "\n",
              "  .colab-df-spinner {\n",
              "    border: 2px solid var(--fill-color);\n",
              "    border-color: transparent;\n",
              "    border-bottom-color: var(--fill-color);\n",
              "    animation:\n",
              "      spin 1s steps(1) infinite;\n",
              "  }\n",
              "\n",
              "  @keyframes spin {\n",
              "    0% {\n",
              "      border-color: transparent;\n",
              "      border-bottom-color: var(--fill-color);\n",
              "      border-left-color: var(--fill-color);\n",
              "    }\n",
              "    20% {\n",
              "      border-color: transparent;\n",
              "      border-left-color: var(--fill-color);\n",
              "      border-top-color: var(--fill-color);\n",
              "    }\n",
              "    30% {\n",
              "      border-color: transparent;\n",
              "      border-left-color: var(--fill-color);\n",
              "      border-top-color: var(--fill-color);\n",
              "      border-right-color: var(--fill-color);\n",
              "    }\n",
              "    40% {\n",
              "      border-color: transparent;\n",
              "      border-right-color: var(--fill-color);\n",
              "      border-top-color: var(--fill-color);\n",
              "    }\n",
              "    60% {\n",
              "      border-color: transparent;\n",
              "      border-right-color: var(--fill-color);\n",
              "    }\n",
              "    80% {\n",
              "      border-color: transparent;\n",
              "      border-right-color: var(--fill-color);\n",
              "      border-bottom-color: var(--fill-color);\n",
              "    }\n",
              "    90% {\n",
              "      border-color: transparent;\n",
              "      border-bottom-color: var(--fill-color);\n",
              "    }\n",
              "  }\n",
              "</style>\n",
              "\n",
              "  <script>\n",
              "    async function quickchart(key) {\n",
              "      const quickchartButtonEl =\n",
              "        document.querySelector('#' + key + ' button');\n",
              "      quickchartButtonEl.disabled = true;  // To prevent multiple clicks.\n",
              "      quickchartButtonEl.classList.add('colab-df-spinner');\n",
              "      try {\n",
              "        const charts = await google.colab.kernel.invokeFunction(\n",
              "            'suggestCharts', [key], {});\n",
              "      } catch (error) {\n",
              "        console.error('Error during call to suggestCharts:', error);\n",
              "      }\n",
              "      quickchartButtonEl.classList.remove('colab-df-spinner');\n",
              "      quickchartButtonEl.classList.add('colab-df-quickchart-complete');\n",
              "    }\n",
              "    (() => {\n",
              "      let quickchartButtonEl =\n",
              "        document.querySelector('#df-b1e0c5cd-84ef-4065-ab08-0d8d836a012a button');\n",
              "      quickchartButtonEl.style.display =\n",
              "        google.colab.kernel.accessAllowed ? 'block' : 'none';\n",
              "    })();\n",
              "  </script>\n",
              "</div>\n",
              "\n",
              "    </div>\n",
              "  </div>\n"
            ],
            "application/vnd.google.colaboratory.intrinsic+json": {
              "type": "dataframe",
              "summary": "{\n  \"name\": \"df\",\n  \"rows\": 3,\n  \"fields\": [\n    {\n      \"column\": \"Data Venda\",\n      \"properties\": {\n        \"dtype\": \"date\",\n        \"min\": \"2009-04-08 00:00:00\",\n        \"max\": \"2009-07-19 00:00:00\",\n        \"num_unique_values\": 3,\n        \"samples\": [\n          \"2009-06-25 00:00:00\",\n          \"2009-07-19 00:00:00\",\n          \"2009-04-08 00:00:00\"\n        ],\n        \"semantic_type\": \"\",\n        \"description\": \"\"\n      }\n    },\n    {\n      \"column\": \"Data Envio\",\n      \"properties\": {\n        \"dtype\": \"date\",\n        \"min\": \"2009-04-12 00:00:00\",\n        \"max\": \"2009-08-01 00:00:00\",\n        \"num_unique_values\": 3,\n        \"samples\": [\n          \"2009-07-06 00:00:00\",\n          \"2009-08-01 00:00:00\",\n          \"2009-04-12 00:00:00\"\n        ],\n        \"semantic_type\": \"\",\n        \"description\": \"\"\n      }\n    },\n    {\n      \"column\": \"ID Loja\",\n      \"properties\": {\n        \"dtype\": \"number\",\n        \"std\": 62,\n        \"min\": 199,\n        \"max\": 307,\n        \"num_unique_values\": 2,\n        \"samples\": [\n          199,\n          307\n        ],\n        \"semantic_type\": \"\",\n        \"description\": \"\"\n      }\n    },\n    {\n      \"column\": \"ID Produto\",\n      \"properties\": {\n        \"dtype\": \"number\",\n        \"std\": 462,\n        \"min\": 366,\n        \"max\": 1178,\n        \"num_unique_values\": 3,\n        \"samples\": [\n          1155,\n          1178\n        ],\n        \"semantic_type\": \"\",\n        \"description\": \"\"\n      }\n    },\n    {\n      \"column\": \"ID Cliente\",\n      \"properties\": {\n        \"dtype\": \"number\",\n        \"std\": 114,\n        \"min\": 18930,\n        \"max\": 19129,\n        \"num_unique_values\": 3,\n        \"samples\": [\n          19127,\n          19129\n        ],\n        \"semantic_type\": \"\",\n        \"description\": \"\"\n      }\n    },\n    {\n      \"column\": \"No. Venda\",\n      \"properties\": {\n        \"dtype\": \"string\",\n        \"num_unique_values\": 3,\n        \"samples\": [\n          \"200906254CS717\",\n          \"200907194CS719\"\n        ],\n        \"semantic_type\": \"\",\n        \"description\": \"\"\n      }\n    },\n    {\n      \"column\": \"Custo Unit\\u00e1rio\",\n      \"properties\": {\n        \"dtype\": \"number\",\n        \"std\": 12.433150579532649,\n        \"min\": 324.69,\n        \"max\": 348.58,\n        \"num_unique_values\": 3,\n        \"samples\": [\n          324.69,\n          330.66\n        ],\n        \"semantic_type\": \"\",\n        \"description\": \"\"\n      }\n    },\n    {\n      \"column\": \"Pre\\u00e7o Unit\\u00e1rio\",\n      \"properties\": {\n        \"dtype\": \"number\",\n        \"std\": 133.67123849205558,\n        \"min\": 758.0,\n        \"max\": 998.0,\n        \"num_unique_values\": 3,\n        \"samples\": [\n          980.0,\n          998.0\n        ],\n        \"semantic_type\": \"\",\n        \"description\": \"\"\n      }\n    },\n    {\n      \"column\": \"Quantidade\",\n      \"properties\": {\n        \"dtype\": \"number\",\n        \"std\": 1,\n        \"min\": 6,\n        \"max\": 8,\n        \"num_unique_values\": 2,\n        \"samples\": [\n          8,\n          6\n        ],\n        \"semantic_type\": \"\",\n        \"description\": \"\"\n      }\n    },\n    {\n      \"column\": \"Valor Desconto\",\n      \"properties\": {\n        \"dtype\": \"number\",\n        \"std\": 339.4819582835,\n        \"min\": 0.0,\n        \"max\": 588.0,\n        \"num_unique_values\": 2,\n        \"samples\": [\n          0.0,\n          588.0\n        ],\n        \"semantic_type\": \"\",\n        \"description\": \"\"\n      }\n    },\n    {\n      \"column\": \"Valor Venda\",\n      \"properties\": {\n        \"dtype\": \"number\",\n        \"std\": 1807.6917141297445,\n        \"min\": 4548.0,\n        \"max\": 7984.0,\n        \"num_unique_values\": 3,\n        \"samples\": [\n          5292.0,\n          7984.0\n        ],\n        \"semantic_type\": \"\",\n        \"description\": \"\"\n      }\n    },\n    {\n      \"column\": \"Produto\",\n      \"properties\": {\n        \"dtype\": \"string\",\n        \"num_unique_values\": 3,\n        \"samples\": [\n          \"Fabrikam Trendsetter 2/3'' 17mm X100 Black\",\n          \"Fabrikam Trendsetter 1/3'' 8.5mm X200 White\"\n        ],\n        \"semantic_type\": \"\",\n        \"description\": \"\"\n      }\n    },\n    {\n      \"column\": \"Fabricante\",\n      \"properties\": {\n        \"dtype\": \"string\",\n        \"num_unique_values\": 2,\n        \"samples\": [\n          \"Adventure Works\",\n          \"Fabrikam, Inc.\"\n        ],\n        \"semantic_type\": \"\",\n        \"description\": \"\"\n      }\n    },\n    {\n      \"column\": \"Marca\",\n      \"properties\": {\n        \"dtype\": \"string\",\n        \"num_unique_values\": 2,\n        \"samples\": [\n          \"Adventure Works\",\n          \"Fabrikam\"\n        ],\n        \"semantic_type\": \"\",\n        \"description\": \"\"\n      }\n    },\n    {\n      \"column\": \"Classe\",\n      \"properties\": {\n        \"dtype\": \"category\",\n        \"num_unique_values\": 1,\n        \"samples\": [\n          \"Regular\"\n        ],\n        \"semantic_type\": \"\",\n        \"description\": \"\"\n      }\n    },\n    {\n      \"column\": \"Cor\",\n      \"properties\": {\n        \"dtype\": \"string\",\n        \"num_unique_values\": 2,\n        \"samples\": [\n          \"White\"\n        ],\n        \"semantic_type\": \"\",\n        \"description\": \"\"\n      }\n    },\n    {\n      \"column\": \"Custo\",\n      \"properties\": {\n        \"dtype\": \"number\",\n        \"std\": 368.1587011059227,\n        \"min\": 1948.1399999999999,\n        \"max\": 2645.28,\n        \"num_unique_values\": 3,\n        \"samples\": [\n          1948.1399999999999\n        ],\n        \"semantic_type\": \"\",\n        \"description\": \"\"\n      }\n    },\n    {\n      \"column\": \"Lucro\",\n      \"properties\": {\n        \"dtype\": \"number\",\n        \"std\": 1476.1388561152817,\n        \"min\": 2456.52,\n        \"max\": 5338.719999999999,\n        \"num_unique_values\": 3,\n        \"samples\": [\n          3343.86\n        ],\n        \"semantic_type\": \"\",\n        \"description\": \"\"\n      }\n    },\n    {\n      \"column\": \"Tempo Envio\",\n      \"properties\": {\n        \"dtype\": \"number\",\n        \"std\": 4,\n        \"min\": 4,\n        \"max\": 13,\n        \"num_unique_values\": 3,\n        \"samples\": [\n          11\n        ],\n        \"semantic_type\": \"\",\n        \"description\": \"\"\n      }\n    }\n  ]\n}"
            }
          },
          "metadata": {},
          "execution_count": 92
        }
      ]
    },
    {
      "cell_type": "code",
      "source": [
        "# Média de tempo de envio por marca\n",
        "df.groupby(['Marca'])['Tempo Envio'].mean()"
      ],
      "metadata": {
        "colab": {
          "base_uri": "https://localhost:8080/"
        },
        "id": "roADMdF6nans",
        "outputId": "9bfc8cca-9c78-4c22-a01c-237578ca8a52"
      },
      "execution_count": 93,
      "outputs": [
        {
          "output_type": "execute_result",
          "data": {
            "text/plain": [
              "Marca\n",
              "Adventure Works                   8.66\n",
              "Contoso                           8.47\n",
              "Fabrikam                          8.51\n",
              "Name: Tempo Envio, dtype: float64"
            ]
          },
          "metadata": {},
          "execution_count": 93
        }
      ]
    },
    {
      "cell_type": "code",
      "source": [
        "# Média de tempo de envio por marca/produto/Classe/Cor\n",
        "df.groupby(['Marca', 'Produto', 'Classe', 'Cor'])['Tempo Envio'].mean()"
      ],
      "metadata": {
        "colab": {
          "base_uri": "https://localhost:8080/"
        },
        "id": "QlnBr1jno2JF",
        "outputId": "c945ae8f-5702-4bef-f168-a1e975b8a62a"
      },
      "execution_count": 94,
      "outputs": [
        {
          "output_type": "execute_result",
          "data": {
            "text/plain": [
              "Marca            Produto                                          Classe   Cor   \n",
              "Adventure Works  Adventure Works Laptop15.4W M1548 Black          Regular  Black                    8.30\n",
              "                 Adventure Works Laptop15.4W M1548 Red            Regular  Red                      9.05\n",
              "Contoso          Headphone Adapter for Contoso Phone E130 Silver  Economy  Silver                   8.30\n",
              "                 Headphone Adapter for Contoso Phone E130 White   Economy  White                    8.65\n",
              "Fabrikam         Fabrikam Trendsetter 1/3'' 8.5mm X200 Black      Regular  Black                    8.67\n",
              "                 Fabrikam Trendsetter 1/3'' 8.5mm X200 Grey       Regular  Grey                     8.26\n",
              "                 Fabrikam Trendsetter 1/3'' 8.5mm X200 White      Regular  White                    8.69\n",
              "                 Fabrikam Trendsetter 2/3'' 17mm X100 Black       Regular  Black                    8.17\n",
              "                 Fabrikam Trendsetter 2/3'' 17mm X100 Grey        Regular  Grey                     8.75\n",
              "Name: Tempo Envio, dtype: float64"
            ]
          },
          "metadata": {},
          "execution_count": 94
        }
      ]
    },
    {
      "cell_type": "code",
      "source": [
        "# Verificar se existem valores ausentes\n",
        "df.isnull().sum()"
      ],
      "metadata": {
        "colab": {
          "base_uri": "https://localhost:8080/"
        },
        "id": "N3ZqMH6Sq21R",
        "outputId": "7afefb46-ad41-4d92-dd4f-38ee074681e1"
      },
      "execution_count": 31,
      "outputs": [
        {
          "output_type": "execute_result",
          "data": {
            "text/plain": [
              "Data Venda        0\n",
              "Data Envio        0\n",
              "ID Loja           0\n",
              "ID Produto        0\n",
              "ID Cliente        0\n",
              "No. Venda         0\n",
              "Custo Unitário    0\n",
              "Preço Unitário    0\n",
              "Quantidade        0\n",
              "Valor Desconto    0\n",
              "Valor Venda       0\n",
              "Produto           0\n",
              "Fabricante        0\n",
              "Marca             0\n",
              "Classe            0\n",
              "Cor               0\n",
              "Custo             0\n",
              "Tempo Envio       0\n",
              "dtype: int64"
            ]
          },
          "metadata": {},
          "execution_count": 31
        }
      ]
    },
    {
      "cell_type": "markdown",
      "source": [
        "# Como mostrar lucro por marca"
      ],
      "metadata": {
        "id": "lWebeg44rHRc"
      }
    },
    {
      "cell_type": "code",
      "source": [
        "df.groupby([(df['Data Venda']).dt.year, 'Marca'])['Lucro'].sum()"
      ],
      "metadata": {
        "colab": {
          "base_uri": "https://localhost:8080/"
        },
        "id": "BJWa-J6brGv1",
        "outputId": "c2523fec-0b53-401a-b002-d81d60e2db4d"
      },
      "execution_count": 95,
      "outputs": [
        {
          "output_type": "execute_result",
          "data": {
            "text/plain": [
              "Data Venda  Marca          \n",
              "2008        Adventure Works             306,641.16\n",
              "            Contoso                      56,416.00\n",
              "            Fabrikam                  1,557,020.55\n",
              "2009        Adventure Works             405,395.08\n",
              "            Contoso                     138,258.95\n",
              "            Fabrikam                  1,034,091.35\n",
              "Name: Lucro, dtype: float64"
            ]
          },
          "metadata": {},
          "execution_count": 95
        }
      ]
    },
    {
      "cell_type": "code",
      "source": [
        "pd.options.display.float_format = '{:20,.2f}'.format"
      ],
      "metadata": {
        "id": "qnvHoe4jtdSM"
      },
      "execution_count": 96,
      "outputs": []
    },
    {
      "cell_type": "markdown",
      "source": [],
      "metadata": {
        "id": "V7arKLctrOIj"
      }
    },
    {
      "cell_type": "code",
      "source": [
        "df.groupby([(df['Data Venda']).dt.year, 'Marca'])['Tempo Envio'].sum()"
      ],
      "metadata": {
        "colab": {
          "base_uri": "https://localhost:8080/"
        },
        "id": "3gBkDaHwuhGq",
        "outputId": "d379d3e2-e2e2-483b-e610-78bd765ee852"
      },
      "execution_count": 97,
      "outputs": [
        {
          "output_type": "execute_result",
          "data": {
            "text/plain": [
              "Data Venda  Marca          \n",
              "2008        Adventure Works     881\n",
              "            Contoso             669\n",
              "            Fabrikam           2357\n",
              "2009        Adventure Works    1181\n",
              "            Contoso             788\n",
              "            Fabrikam           1847\n",
              "Name: Tempo Envio, dtype: int64"
            ]
          },
          "metadata": {},
          "execution_count": 97
        }
      ]
    },
    {
      "cell_type": "code",
      "source": [
        "# Guardar as informações de lucro por marca\n",
        "\n",
        "lucro_ano = df.groupby([df['Data Venda'].dt.year, 'Marca'])['Lucro'].sum().reset_index()"
      ],
      "metadata": {
        "id": "6rs_3BAXwfu4"
      },
      "execution_count": 98,
      "outputs": []
    },
    {
      "cell_type": "code",
      "source": [
        "# Guardar as informações de dias para envio por marca\n",
        "\n",
        "tempo_envio_ano = df.groupby([df['Data Venda'].dt.year, 'Marca'])['Tempo Envio'].sum().reset_index()"
      ],
      "metadata": {
        "id": "ReUBfQHyw-El"
      },
      "execution_count": 99,
      "outputs": []
    },
    {
      "cell_type": "code",
      "source": [
        "# Qual o total de produtos vendidos, ordenados por qtd?\n",
        "\n",
        "df.groupby(['Produto'])['Quantidade'].sum().sort_values(ascending=False)"
      ],
      "metadata": {
        "colab": {
          "base_uri": "https://localhost:8080/"
        },
        "id": "CeFUO8zpxfLz",
        "outputId": "bbf24bef-9766-43e0-ec9b-9406690fd335"
      },
      "execution_count": 100,
      "outputs": [
        {
          "output_type": "execute_result",
          "data": {
            "text/plain": [
              "Produto\n",
              "Headphone Adapter for Contoso Phone E130 Silver    25232\n",
              "Headphone Adapter for Contoso Phone E130 White     25008\n",
              "Adventure Works Laptop15.4W M1548 Black             1089\n",
              "Fabrikam Trendsetter 2/3'' 17mm X100 Grey           1087\n",
              "Adventure Works Laptop15.4W M1548 Red               1047\n",
              "Fabrikam Trendsetter 2/3'' 17mm X100 Black           926\n",
              "Fabrikam Trendsetter 1/3'' 8.5mm X200 Black          884\n",
              "Fabrikam Trendsetter 1/3'' 8.5mm X200 Grey           845\n",
              "Fabrikam Trendsetter 1/3'' 8.5mm X200 White          789\n",
              "Name: Quantidade, dtype: int64"
            ]
          },
          "metadata": {},
          "execution_count": 100
        }
      ]
    },
    {
      "cell_type": "code",
      "source": [
        "# Gráfico total de produtos vendidos\n",
        "\n",
        "df.groupby(['Produto'])['Quantidade'].sum().sort_values(ascending=False).plot.barh('Total Produtos Vendidos')\n",
        "plt.xlabel('Total')\n",
        "plt.ylabel('Produto')"
      ],
      "metadata": {
        "colab": {
          "base_uri": "https://localhost:8080/",
          "height": 503
        },
        "id": "jZGb641qySQ3",
        "outputId": "f83920b0-d41f-42ac-a3c8-0317770f5837"
      },
      "execution_count": 101,
      "outputs": [
        {
          "output_type": "execute_result",
          "data": {
            "text/plain": [
              "Text(0, 0.5, 'Produto')"
            ]
          },
          "metadata": {},
          "execution_count": 101
        },
        {
          "output_type": "display_data",
          "data": {
            "text/plain": [
              "<Figure size 800x550 with 1 Axes>"
            ],
            "image/png": "[encoded data removed]"
          },
          "metadata": {}
        }
      ]
    },
    {
      "cell_type": "code",
      "source": [
        "df.groupby([df['Data Venda'].dt.year])['Lucro'].sum().plot.bar(title='Total de Produtos Vendidos')\n",
        "\n",
        "plt.xlabel('Ano')\n",
        "plt.ylabel('Quantidade')"
      ],
      "metadata": {
        "colab": {
          "base_uri": "https://localhost:8080/",
          "height": 559
        },
        "id": "ibyf7nhU01VL",
        "outputId": "df933dac-8582-4c25-9b0c-8b49ad6e5e7c"
      },
      "execution_count": 103,
      "outputs": [
        {
          "output_type": "execute_result",
          "data": {
            "text/plain": [
              "Text(0, 0.5, 'Quantidade')"
            ]
          },
          "metadata": {},
          "execution_count": 103
        },
        {
          "output_type": "display_data",
          "data": {
            "text/plain": [
              "<Figure size 800x550 with 1 Axes>"
            ],
            "image/png": "[encoded data removed]"
          },
          "metadata": {}
        }
      ]
    },
    {
      "cell_type": "code",
      "source": [
        "# Agora quero analisar somente as vendas do ano de 2009\n",
        "\n",
        "dt_2009 = df.loc[df['Data Venda'].dt.year == 2009]"
      ],
      "metadata": {
        "id": "AKqD_Rg71Wmr"
      },
      "execution_count": 104,
      "outputs": []
    },
    {
      "cell_type": "code",
      "source": [
        "dt_2009.sample()"
      ],
      "metadata": {
        "colab": {
          "base_uri": "https://localhost:8080/",
          "height": 170
        },
        "id": "Qv-G5hi32yDu",
        "outputId": "43d86a79-6dfc-4de7-802a-789ac22e2408"
      },
      "execution_count": 81,
      "outputs": [
        {
          "output_type": "execute_result",
          "data": {
            "text/plain": [
              "    Data Venda Data Envio  ID Loja  ID Produto  ID Cliente       No. Venda  \\\n",
              "350 2009-03-31 2009-04-13      307        1203       19119  200903314CS709   \n",
              "\n",
              "          Custo Unitário       Preço Unitário  Quantidade  \\\n",
              "350               324.69               980.00          12   \n",
              "\n",
              "          Valor Desconto          Valor Venda  \\\n",
              "350             2,352.00             9,408.00   \n",
              "\n",
              "                                       Produto      Fabricante     Marca  \\\n",
              "350  Fabrikam Trendsetter 2/3'' 17mm X100 Grey  Fabrikam, Inc.  Fabrikam   \n",
              "\n",
              "      Classe   Cor                Custo                Lucro  Tempo Envio  \n",
              "350  Regular  Grey             3,896.28             5,511.72           13  "
            ],
            "text/html": [
              "\n",
              "  <div id=\"df-747e604a-6fc7-44bd-8ffe-6e6391d326c9\" class=\"colab-df-container\">\n",
              "    <div>\n",
              "<style scoped>\n",
              "    .dataframe tbody tr th:only-of-type {\n",
              "        vertical-align: middle;\n",
              "    }\n",
              "\n",
              "    .dataframe tbody tr th {\n",
              "        vertical-align: top;\n",
              "    }\n",
              "\n",
              "    .dataframe thead th {\n",
              "        text-align: right;\n",
              "    }\n",
              "</style>\n",
              "<table border=\"1\" class=\"dataframe\">\n",
              "  <thead>\n",
              "    <tr style=\"text-align: right;\">\n",
              "      <th></th>\n",
              "      <th>Data Venda</th>\n",
              "      <th>Data Envio</th>\n",
              "      <th>ID Loja</th>\n",
              "      <th>ID Produto</th>\n",
              "      <th>ID Cliente</th>\n",
              "      <th>No. Venda</th>\n",
              "      <th>Custo Unitário</th>\n",
              "      <th>Preço Unitário</th>\n",
              "      <th>Quantidade</th>\n",
              "      <th>Valor Desconto</th>\n",
              "      <th>Valor Venda</th>\n",
              "      <th>Produto</th>\n",
              "      <th>Fabricante</th>\n",
              "      <th>Marca</th>\n",
              "      <th>Classe</th>\n",
              "      <th>Cor</th>\n",
              "      <th>Custo</th>\n",
              "      <th>Lucro</th>\n",
              "      <th>Tempo Envio</th>\n",
              "    </tr>\n",
              "  </thead>\n",
              "  <tbody>\n",
              "    <tr>\n",
              "      <th>350</th>\n",
              "      <td>2009-03-31</td>\n",
              "      <td>2009-04-13</td>\n",
              "      <td>307</td>\n",
              "      <td>1203</td>\n",
              "      <td>19119</td>\n",
              "      <td>200903314CS709</td>\n",
              "      <td>324.69</td>\n",
              "      <td>980.00</td>\n",
              "      <td>12</td>\n",
              "      <td>2,352.00</td>\n",
              "      <td>9,408.00</td>\n",
              "      <td>Fabrikam Trendsetter 2/3'' 17mm X100 Grey</td>\n",
              "      <td>Fabrikam, Inc.</td>\n",
              "      <td>Fabrikam</td>\n",
              "      <td>Regular</td>\n",
              "      <td>Grey</td>\n",
              "      <td>3,896.28</td>\n",
              "      <td>5,511.72</td>\n",
              "      <td>13</td>\n",
              "    </tr>\n",
              "  </tbody>\n",
              "</table>\n",
              "</div>\n",
              "    <div class=\"colab-df-buttons\">\n",
              "\n",
              "  <div class=\"colab-df-container\">\n",
              "    <button class=\"colab-df-convert\" onclick=\"convertToInteractive('df-747e604a-6fc7-44bd-8ffe-6e6391d326c9')\"\n",
              "            title=\"Convert this dataframe to an interactive table.\"\n",
              "            style=\"display:none;\">\n",
              "\n",
              "  <svg xmlns=\"http://www.w3.org/2000/svg\" height=\"24px\" viewBox=\"0 -960 960 960\">\n",
              "    <path d=\"M120-120v-720h720v720H120Zm60-500h600v-160H180v160Zm220 220h160v-160H400v160Zm0 220h160v-160H400v160ZM180-400h160v-160H180v160Zm440 0h160v-160H620v160ZM180-180h160v-160H180v160Zm440 0h160v-160H620v160Z\"/>\n",
              "  </svg>\n",
              "    </button>\n",
              "\n",
              "  <style>\n",
              "    .colab-df-container {\n",
              "      display:flex;\n",
              "      gap: 12px;\n",
              "    }\n",
              "\n",
              "    .colab-df-convert {\n",
              "      background-color: #E8F0FE;\n",
              "      border: none;\n",
              "      border-radius: 50%;\n",
              "      cursor: pointer;\n",
              "      display: none;\n",
              "      fill: #1967D2;\n",
              "      height: 32px;\n",
              "      padding: 0 0 0 0;\n",
              "      width: 32px;\n",
              "    }\n",
              "\n",
              "    .colab-df-convert:hover {\n",
              "      background-color: #E2EBFA;\n",
              "      box-shadow: 0px 1px 2px rgba(60, 64, 67, 0.3), 0px 1px 3px 1px rgba(60, 64, 67, 0.15);\n",
              "      fill: #174EA6;\n",
              "    }\n",
              "\n",
              "    .colab-df-buttons div {\n",
              "      margin-bottom: 4px;\n",
              "    }\n",
              "\n",
              "    [theme=dark] .colab-df-convert {\n",
              "      background-color: #3B4455;\n",
              "      fill: #D2E3FC;\n",
              "    }\n",
              "\n",
              "    [theme=dark] .colab-df-convert:hover {\n",
              "      background-color: #434B5C;\n",
              "      box-shadow: 0px 1px 3px 1px rgba(0, 0, 0, 0.15);\n",
              "      filter: drop-shadow(0px 1px 2px rgba(0, 0, 0, 0.3));\n",
              "      fill: #FFFFFF;\n",
              "    }\n",
              "  </style>\n",
              "\n",
              "    <script>\n",
              "      const buttonEl =\n",
              "        document.querySelector('#df-747e604a-6fc7-44bd-8ffe-6e6391d326c9 button.colab-df-convert');\n",
              "      buttonEl.style.display =\n",
              "        google.colab.kernel.accessAllowed ? 'block' : 'none';\n",
              "\n",
              "      async function convertToInteractive(key) {\n",
              "        const element = document.querySelector('#df-747e604a-6fc7-44bd-8ffe-6e6391d326c9');\n",
              "        const dataTable =\n",
              "          await google.colab.kernel.invokeFunction('convertToInteractive',\n",
              "                                                    [key], {});\n",
              "        if (!dataTable) return;\n",
              "\n",
              "        const docLinkHtml = 'Like what you see? Visit the ' +\n",
              "          '<a target=\"_blank\" href=https://colab.research.google.com/notebooks/data_table.ipynb>data table notebook</a>'\n",
              "          + ' to learn more about interactive tables.';\n",
              "        element.innerHTML = '';\n",
              "        dataTable['output_type'] = 'display_data';\n",
              "        await google.colab.output.renderOutput(dataTable, element);\n",
              "        const docLink = document.createElement('div');\n",
              "        docLink.innerHTML = docLinkHtml;\n",
              "        element.appendChild(docLink);\n",
              "      }\n",
              "    </script>\n",
              "  </div>\n",
              "\n",
              "\n",
              "    </div>\n",
              "  </div>\n"
            ],
            "application/vnd.google.colaboratory.intrinsic+json": {
              "type": "dataframe",
              "summary": "{\n  \"name\": \"dt_2009\",\n  \"rows\": 1,\n  \"fields\": [\n    {\n      \"column\": \"Data Venda\",\n      \"properties\": {\n        \"dtype\": \"date\",\n        \"min\": \"2009-03-31 00:00:00\",\n        \"max\": \"2009-03-31 00:00:00\",\n        \"num_unique_values\": 1,\n        \"samples\": [\n          \"2009-03-31 00:00:00\"\n        ],\n        \"semantic_type\": \"\",\n        \"description\": \"\"\n      }\n    },\n    {\n      \"column\": \"Data Envio\",\n      \"properties\": {\n        \"dtype\": \"date\",\n        \"min\": \"2009-04-13 00:00:00\",\n        \"max\": \"2009-04-13 00:00:00\",\n        \"num_unique_values\": 1,\n        \"samples\": [\n          \"2009-04-13 00:00:00\"\n        ],\n        \"semantic_type\": \"\",\n        \"description\": \"\"\n      }\n    },\n    {\n      \"column\": \"ID Loja\",\n      \"properties\": {\n        \"dtype\": \"number\",\n        \"std\": null,\n        \"min\": 307,\n        \"max\": 307,\n        \"num_unique_values\": 1,\n        \"samples\": [\n          307\n        ],\n        \"semantic_type\": \"\",\n        \"description\": \"\"\n      }\n    },\n    {\n      \"column\": \"ID Produto\",\n      \"properties\": {\n        \"dtype\": \"number\",\n        \"std\": null,\n        \"min\": 1203,\n        \"max\": 1203,\n        \"num_unique_values\": 1,\n        \"samples\": [\n          1203\n        ],\n        \"semantic_type\": \"\",\n        \"description\": \"\"\n      }\n    },\n    {\n      \"column\": \"ID Cliente\",\n      \"properties\": {\n        \"dtype\": \"number\",\n        \"std\": null,\n        \"min\": 19119,\n        \"max\": 19119,\n        \"num_unique_values\": 1,\n        \"samples\": [\n          19119\n        ],\n        \"semantic_type\": \"\",\n        \"description\": \"\"\n      }\n    },\n    {\n      \"column\": \"No. Venda\",\n      \"properties\": {\n        \"dtype\": \"string\",\n        \"num_unique_values\": 1,\n        \"samples\": [\n          \"200903314CS709\"\n        ],\n        \"semantic_type\": \"\",\n        \"description\": \"\"\n      }\n    },\n    {\n      \"column\": \"Custo Unit\\u00e1rio\",\n      \"properties\": {\n        \"dtype\": \"number\",\n        \"std\": null,\n        \"min\": 324.69,\n        \"max\": 324.69,\n        \"num_unique_values\": 1,\n        \"samples\": [\n          324.69\n        ],\n        \"semantic_type\": \"\",\n        \"description\": \"\"\n      }\n    },\n    {\n      \"column\": \"Pre\\u00e7o Unit\\u00e1rio\",\n      \"properties\": {\n        \"dtype\": \"number\",\n        \"std\": null,\n        \"min\": 980.0,\n        \"max\": 980.0,\n        \"num_unique_values\": 1,\n        \"samples\": [\n          980.0\n        ],\n        \"semantic_type\": \"\",\n        \"description\": \"\"\n      }\n    },\n    {\n      \"column\": \"Quantidade\",\n      \"properties\": {\n        \"dtype\": \"number\",\n        \"std\": null,\n        \"min\": 12,\n        \"max\": 12,\n        \"num_unique_values\": 1,\n        \"samples\": [\n          12\n        ],\n        \"semantic_type\": \"\",\n        \"description\": \"\"\n      }\n    },\n    {\n      \"column\": \"Valor Desconto\",\n      \"properties\": {\n        \"dtype\": \"number\",\n        \"std\": null,\n        \"min\": 2352.0,\n        \"max\": 2352.0,\n        \"num_unique_values\": 1,\n        \"samples\": [\n          2352.0\n        ],\n        \"semantic_type\": \"\",\n        \"description\": \"\"\n      }\n    },\n    {\n      \"column\": \"Valor Venda\",\n      \"properties\": {\n        \"dtype\": \"number\",\n        \"std\": null,\n        \"min\": 9408.0,\n        \"max\": 9408.0,\n        \"num_unique_values\": 1,\n        \"samples\": [\n          9408.0\n        ],\n        \"semantic_type\": \"\",\n        \"description\": \"\"\n      }\n    },\n    {\n      \"column\": \"Produto\",\n      \"properties\": {\n        \"dtype\": \"string\",\n        \"num_unique_values\": 1,\n        \"samples\": [\n          \"Fabrikam Trendsetter 2/3'' 17mm X100 Grey\"\n        ],\n        \"semantic_type\": \"\",\n        \"description\": \"\"\n      }\n    },\n    {\n      \"column\": \"Fabricante\",\n      \"properties\": {\n        \"dtype\": \"string\",\n        \"num_unique_values\": 1,\n        \"samples\": [\n          \"Fabrikam, Inc.\"\n        ],\n        \"semantic_type\": \"\",\n        \"description\": \"\"\n      }\n    },\n    {\n      \"column\": \"Marca\",\n      \"properties\": {\n        \"dtype\": \"string\",\n        \"num_unique_values\": 1,\n        \"samples\": [\n          \"Fabrikam\"\n        ],\n        \"semantic_type\": \"\",\n        \"description\": \"\"\n      }\n    },\n    {\n      \"column\": \"Classe\",\n      \"properties\": {\n        \"dtype\": \"string\",\n        \"num_unique_values\": 1,\n        \"samples\": [\n          \"Regular\"\n        ],\n        \"semantic_type\": \"\",\n        \"description\": \"\"\n      }\n    },\n    {\n      \"column\": \"Cor\",\n      \"properties\": {\n        \"dtype\": \"string\",\n        \"num_unique_values\": 1,\n        \"samples\": [\n          \"Grey\"\n        ],\n        \"semantic_type\": \"\",\n        \"description\": \"\"\n      }\n    },\n    {\n      \"column\": \"Custo\",\n      \"properties\": {\n        \"dtype\": \"number\",\n        \"std\": null,\n        \"min\": 3896.2799999999997,\n        \"max\": 3896.2799999999997,\n        \"num_unique_values\": 1,\n        \"samples\": [\n          3896.2799999999997\n        ],\n        \"semantic_type\": \"\",\n        \"description\": \"\"\n      }\n    },\n    {\n      \"column\": \"Lucro\",\n      \"properties\": {\n        \"dtype\": \"number\",\n        \"std\": null,\n        \"min\": 5511.72,\n        \"max\": 5511.72,\n        \"num_unique_values\": 1,\n        \"samples\": [\n          5511.72\n        ],\n        \"semantic_type\": \"\",\n        \"description\": \"\"\n      }\n    },\n    {\n      \"column\": \"Tempo Envio\",\n      \"properties\": {\n        \"dtype\": \"number\",\n        \"std\": null,\n        \"min\": 13,\n        \"max\": 13,\n        \"num_unique_values\": 1,\n        \"samples\": [\n          13\n        ],\n        \"semantic_type\": \"\",\n        \"description\": \"\"\n      }\n    }\n  ]\n}"
            }
          },
          "metadata": {},
          "execution_count": 81
        }
      ]
    },
    {
      "cell_type": "code",
      "source": [
        "dt_2009.groupby([df['Data Venda'].dt.month])['Quantidade'].sum().plot(title='Lucro X Mês')\n",
        "plt.xlabel('Mês')\n",
        "plt.ylabel('Lucro')"
      ],
      "metadata": {
        "colab": {
          "base_uri": "https://localhost:8080/",
          "height": 542
        },
        "id": "Jn9aJlAN25cl",
        "outputId": "05947c0a-3cb3-44d2-a4f9-6e055f8ace36"
      },
      "execution_count": 110,
      "outputs": [
        {
          "output_type": "execute_result",
          "data": {
            "text/plain": [
              "Text(0, 0.5, 'Lucro')"
            ]
          },
          "metadata": {},
          "execution_count": 110
        },
        {
          "output_type": "display_data",
          "data": {
            "text/plain": [
              "<Figure size 800x550 with 1 Axes>"
            ],
            "image/png": "[encoded data removed]"
          },
          "metadata": {}
        }
      ]
    },
    {
      "cell_type": "code",
      "source": [
        "dt_2009.groupby(['Marca'])['Lucro'].sum().plot.bar(title='Marca X Lucro')\n",
        "plt.xlabel(\"Marca\")\n",
        "plt.ylabel('Lucro')\n",
        "plt.xticks(rotation='horizontal');"
      ],
      "metadata": {
        "colab": {
          "base_uri": "https://localhost:8080/",
          "height": 524
        },
        "id": "NoDQLEMj3byz",
        "outputId": "8df7dc6c-f6c8-4c6c-ffd1-0d8abffb8c34"
      },
      "execution_count": 121,
      "outputs": [
        {
          "output_type": "display_data",
          "data": {
            "text/plain": [
              "<Figure size 800x550 with 1 Axes>"
            ],
            "image/png": "[encoded data removed]"
          },
          "metadata": {}
        }
      ]
    },
    {
      "cell_type": "code",
      "source": [
        "dt_2009.groupby(['Classe'])['Lucro'].sum().plot.bar(color='red')\n",
        "plt.xlabel('Classe')\n",
        "plt.ylabel('Quantidade')\n",
        "plt.xticks(rotation='horizontal')"
      ],
      "metadata": {
        "colab": {
          "base_uri": "https://localhost:8080/",
          "height": 536
        },
        "id": "RxEGzAPEKqJ8",
        "outputId": "b42a9fc9-9db7-4f22-cb9c-6ff4e5339735"
      },
      "execution_count": 128,
      "outputs": [
        {
          "output_type": "execute_result",
          "data": {
            "text/plain": [
              "(array([0, 1]), [Text(0, 0, 'Economy'), Text(1, 0, 'Regular')])"
            ]
          },
          "metadata": {},
          "execution_count": 128
        },
        {
          "output_type": "display_data",
          "data": {
            "text/plain": [
              "<Figure size 800x550 with 1 Axes>"
            ],
            "image/png": "[encoded data removed]"
          },
          "metadata": {}
        }
      ]
    },
    {
      "cell_type": "code",
      "source": [
        "df['Tempo Envio'].describe()"
      ],
      "metadata": {
        "colab": {
          "base_uri": "https://localhost:8080/"
        },
        "id": "y2ZzfipLNS-g",
        "outputId": "0663e52f-5393-4cf8-d542-ffa44994d0ad"
      },
      "execution_count": 131,
      "outputs": [
        {
          "output_type": "execute_result",
          "data": {
            "text/plain": [
              "count                 904.00\n",
              "mean                    8.54\n",
              "std                     3.06\n",
              "min                     4.00\n",
              "25%                     6.00\n",
              "50%                     9.00\n",
              "75%                    11.00\n",
              "max                    20.00\n",
              "Name: Tempo Envio, dtype: float64"
            ]
          },
          "metadata": {},
          "execution_count": 131
        }
      ]
    },
    {
      "cell_type": "code",
      "source": [
        "# Gráfico boxplot\n",
        "plt.boxplot(df['Tempo Envio'])"
      ],
      "metadata": {
        "colab": {
          "base_uri": "https://localhost:8080/",
          "height": 627
        },
        "id": "3xP0qAVGL-G0",
        "outputId": "5ea6d302-c196-4269-88c8-479c17fa8bca"
      },
      "execution_count": 129,
      "outputs": [
        {
          "output_type": "execute_result",
          "data": {
            "text/plain": [
              "{'whiskers': [<matplotlib.lines.Line2D at 0x7edb95fa8580>,\n",
              "  <matplotlib.lines.Line2D at 0x7edb91c9b490>],\n",
              " 'caps': [<matplotlib.lines.Line2D at 0x7edb91c9aaa0>,\n",
              "  <matplotlib.lines.Line2D at 0x7edb93d2be20>],\n",
              " 'boxes': [<matplotlib.lines.Line2D at 0x7edb9193df60>],\n",
              " 'medians': [<matplotlib.lines.Line2D at 0x7edb91789a20>],\n",
              " 'fliers': [<matplotlib.lines.Line2D at 0x7edb917895a0>],\n",
              " 'means': []}"
            ]
          },
          "metadata": {},
          "execution_count": 129
        },
        {
          "output_type": "display_data",
          "data": {
            "text/plain": [
              "<Figure size 800x550 with 1 Axes>"
            ],
            "image/png": "[encoded data removed]"
          },
          "metadata": {}
        }
      ]
    },
    {
      "cell_type": "code",
      "source": [
        "# Gráfico hist\n",
        "plt.hist(df['Tempo Envio'])"
      ],
      "metadata": {
        "colab": {
          "base_uri": "https://localhost:8080/",
          "height": 538
        },
        "id": "4lWpUBDLNNQv",
        "outputId": "da76d459-0950-479f-9536-fd3562548354"
      },
      "execution_count": 132,
      "outputs": [
        {
          "output_type": "execute_result",
          "data": {
            "text/plain": [
              "(array([217., 137.,  70., 179., 115., 185.,   0.,   0.,   0.,   1.]),\n",
              " array([ 4. ,  5.6,  7.2,  8.8, 10.4, 12. , 13.6, 15.2, 16.8, 18.4, 20. ]),\n",
              " <BarContainer object of 10 artists>)"
            ]
          },
          "metadata": {},
          "execution_count": 132
        },
        {
          "output_type": "display_data",
          "data": {
            "text/plain": [
              "<Figure size 800x550 with 1 Axes>"
            ],
            "image/png": "[encoded data removed]"
          },
          "metadata": {}
        }
      ]
    },
    {
      "cell_type": "code",
      "source": [
        "df.to_csv('df_vendas_novo.csv', index = False)"
      ],
      "metadata": {
        "id": "X39L8dq6OdmA"
      },
      "execution_count": 133,
      "outputs": []
    }
  ]
}